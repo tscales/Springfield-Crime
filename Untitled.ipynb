{
 "cells": [
  {
   "cell_type": "code",
   "execution_count": 113,
   "metadata": {
    "collapsed": false
   },
   "outputs": [],
   "source": [
    "% matplotlib inline\n",
    "import pandas as pd\n",
    "import json\n",
    "import requests\n",
    "import time\n",
    "\n",
    "from bs4 import BeautifulSoup\n",
    "\n",
    "url = 'http://www.springfieldcrimealert.com/crime_stats_'\n",
    "frames =[]\n",
    "\n",
    "for year in range(2004,2006):\n",
    "    page = url + str(year) + '.php'\n",
    "    df = pd.read_html(page,header= 0, index_col= 0)\n",
    "    df[0].index.name = None\n",
    "    frames.append(df[0])\n",
    "    time.sleep(1)\n",
    "\n",
    "#def load_data():\n",
    "#    '''Loads json file, sorts year values, and concats in to a Pandas DataFrame'''\n",
    "#    with open('data\\monthly-stats-2004-2016.txt','r') as f:\n",
    "#        data = json.load(f)\n",
    "#    return data\n",
    "#def create_dataFrame(data):\n",
    "#    frames = sorted([year for year in data])\n",
    "#    months = ['jan','feb','mar','apr','may','jun','jul','aug','sep','oct','nov','dec']\n",
    "#    df = pd.concat([pd.DataFrame(data[year], index = [months]) for year in frames],keys = [year for year in range(2004,2017)])\n",
    "#    df_frames = [pd.DataFrame(data[year], index = [months]) for year in frames]\n",
    "#    df = pd.concat(df_frames, keys=[year for year in range(2004,2017)])\n",
    "#    return df\n",
    "#data = load_data()\n",
    "#df = create_dataFrame(data)\n",
    "#df.head(12)\n",
    "\n",
    "#n_df = pd.read_html(url, header = 0)\n",
    "#df = pd.read_html(url,header = 0, index_col = 0)"
   ]
  },
  {
   "cell_type": "code",
   "execution_count": 145,
   "metadata": {
    "collapsed": false
   },
   "outputs": [
    {
     "data": {
      "text/plain": [
       "Jan    4\n",
       "Feb    2\n",
       "Mar    4\n",
       "Apr    1\n",
       "May    2\n",
       "Jun    5\n",
       "Jul    3\n",
       "Aug    3\n",
       "Sep    1\n",
       "Oct    2\n",
       "Nov    1\n",
       "Dec    2\n",
       "Name: Abduction, dtype: int64"
      ]
     },
     "execution_count": 145,
     "metadata": {},
     "output_type": "execute_result"
    }
   ],
   "source": [
    "four = frames[0]\n",
    "four.ix['Abduction']\n",
    "#df[0][:5]\n"
   ]
  },
  {
   "cell_type": "code",
   "execution_count": 152,
   "metadata": {
    "collapsed": false
   },
   "outputs": [
    {
     "data": {
      "text/plain": [
       "2004  Jan     81\n",
       "      Feb     63\n",
       "      Mar     97\n",
       "      Apr     82\n",
       "      May    107\n",
       "      Jun     83\n",
       "      Jul    113\n",
       "      Aug     97\n",
       "      Sep     84\n",
       "      Oct     81\n",
       "      Nov     76\n",
       "      Dec     63\n",
       "Name: Abandoned Vehicle, dtype: int64"
      ]
     },
     "execution_count": 152,
     "metadata": {},
     "output_type": "execute_result"
    }
   ],
   "source": [
    "result = pd.concat(frames, axis = 1, keys= ['2004','2005'])\n",
    "#df[0].index.name = None\n",
    "#df[0][:5]\n",
    "#df[0].ix['Abandoned Vehicle'].sum()"
   ]
  },
  {
   "cell_type": "code",
   "execution_count": 161,
   "metadata": {
    "collapsed": false
   },
   "outputs": [
    {
     "data": {
      "text/plain": [
       "<matplotlib.axes._subplots.AxesSubplot at 0x17c114e82b0>"
      ]
     },
     "execution_count": 161,
     "metadata": {},
     "output_type": "execute_result"
    },
    {
     "data": {
      "image/png": "[encoded data removed]",
      "text/plain": [
       "<matplotlib.figure.Figure at 0x17c114e5e48>"
      ]
     },
     "metadata": {},
     "output_type": "display_data"
    }
   ],
   "source": [
    "##PLOt BY YEAR IT WORKS!Q!\n",
    "def plot_by_year(name, result = result):\n",
    "    r = pd.Series(result[str(i)].ix[name].sum() for i in range(2004,2006))\n",
    "    return r.plot.bar()\n",
    "plot_by_year(\"Suicide\")"
   ]
  },
  {
   "cell_type": "code",
   "execution_count": 127,
   "metadata": {
    "collapsed": false
   },
   "outputs": [
    {
     "name": "stdout",
     "output_type": "stream",
     "text": [
      "Abandoned 911 Call 92\n",
      "Abandoned Vehicle 1959\n",
      "Abduction 52\n",
      "Abduction - Non-Parent 1\n",
      "Abduction - Parent 34\n",
      "Accident - Non-Vehicle 77\n",
      "Administrative Duties 0\n",
      "Alarm - Law Only 8227\n",
      "Animal Call 99\n",
      "Animal Call - Past 7\n",
      "Assault 2419\n",
      "Assault - Past 1738\n",
      "Assist An Agency 591\n",
      "Assist Person 450\n",
      "Auto Theft 208\n",
      "Auto Theft - Past 222\n",
      "Bomb Device Law 2\n",
      "Break 0\n",
      "Burglary - Commercial 168\n",
      "Burglary - Commercial - Past 788\n",
      "Burglary - Residential 509\n",
      "Burglary - Residential - Past 2192\n",
      "Check Building 138\n",
      "Check Person 3692\n",
      "Check Person - Weapon 157\n",
      "Check Vehicle 415\n",
      "Check Well-Being 1842\n",
      "Check Well-Being - Comb 9\n",
      "Child Abuse 855\n",
      "Citizen Contact Info 2\n",
      "Civil 11\n",
      "Combined Ems Call 11\n",
      "Combined Industrial 1\n",
      "Community Event 7\n",
      "Court Appearance 0\n",
      "Deceased Person 404\n",
      "Disturbance - Domestic 7710\n",
      "Disturbance - Domestic - Past 1735\n",
      "Disturbance - General 2885\n",
      "Disturbance - General - Past 401\n",
      "Driving Intoxicated 2122\n",
      "Drugs 3203\n",
      "Drugs - Past 7\n",
      "Drunk Person 2\n",
      "Elder Abuse 8\n",
      "Emergency Message Relay 1\n",
      "Fail To Return Borrowed Vehicle 115\n",
      "Fail To Return Leased Property 117\n",
      "Fireworks 24\n",
      "Follow Up 0\n",
      "Foot Pursuit 33\n",
      "Forgery 389\n",
      "Forgery - Past 0\n",
      "Found Property 1897\n",
      "Graffitti Call 0\n",
      "Harrassment 1712\n",
      "Harrassment - Past 403\n",
      "Identity Theft 0\n",
      "In-Service At Hq 0\n",
      "In-Service At Sds 0\n",
      "Indecent Exposure 171\n",
      "Indecent Exposure - Past 27\n",
      "Info Broadcast 0\n",
      "Juvenile Situation 13\n",
      "Juvenile Situation - Past 0\n",
      "Left Without Paying 1443\n",
      "Liquor Law Violation 1060\n",
      "Liquor Law Violation - Past 3\n",
      "Lost Property 761\n",
      "Loud Party 174\n",
      "Loud Party - Past 0\n",
      "Miscellaneous - Other 5775\n",
      "Missing Person - Adult 433\n",
      "Missing Person - Juvenile 918\n",
      "Noise Disturbance 476\n",
      "Noise Disturbance - Past 5\n",
      "Nuisance 0\n",
      "Officer Initiated Incident 0\n",
      "Order Protection Violation 393\n",
      "Order Protection Violation - Past 793\n",
      "Prisoner Transport 146\n",
      "Prostitution 56\n",
      "Prostitution - Past 2\n",
      "Prowler 39\n",
      "Prowler - Past 6\n",
      "Pursuit - Traffic 21\n",
      "Recovered Vehicle 218\n",
      "Repossessed Vehicle 1261\n",
      "Robbery 237\n",
      "Robbery - Attempted 17\n",
      "Robbery - Past 100\n",
      "Rx Forgery 18\n",
      "Rx Forgery - Past 22\n",
      "Sex Offender Check 0\n",
      "Sex Offense - Not Rape 208\n",
      "Sex Offense - Not Rape - Past 124\n",
      "Shoplifting 2563\n",
      "Shots Heard 45\n",
      "Special Assignment 0\n",
      "Stalking 58\n",
      "Stalled Vehicle 74\n",
      "Stealing 1621\n",
      "Stealing - Past 14942\n",
      "Stealing From A Vehicle 0\n",
      "Stealing From A Vehicle - Past 0\n",
      "Suicide 145\n",
      "Suicide Attempt 154\n",
      "Suicide Attempt - Comb 9\n",
      "Terrorist Threat 0\n",
      "Terrorist Threat - Past 0\n",
      "Traffic Control 0\n",
      "Traffic Enforcement 0\n",
      "Traffic Violation - Moving 226\n",
      "Traffic Violation - Non-Moving 183\n",
      "Train Emergency 0\n",
      "Trespassing 365\n",
      "Trespassing - Past 236\n",
      "Vandalism 1239\n",
      "Vandalism - Past 3689\n",
      "Vehicle Accident - Fatal 8\n",
      "Vehicle Accident - Injury 2145\n",
      "Vehicle Accident - Injury - Comb 27\n",
      "Vehicle Accident - Left The Scene 1786\n",
      "Vehicle Accident - Non-Injury 12555\n",
      "Vehicle Accident - Past 3256\n",
      "Vehicle Maintenance 0\n",
      "Warrant - Arrest 7854\n",
      "Warrant - Search 379\n"
     ]
    }
   ],
   "source": [
    "for i in list(result.index):\n",
    "    print(i, result.ix[i].sum())"
   ]
  },
  {
   "cell_type": "code",
   "execution_count": 82,
   "metadata": {
    "collapsed": false
   },
   "outputs": [
    {
     "ename": "AttributeError",
     "evalue": "'list' object has no attribute 'sum'",
     "output_type": "error",
     "traceback": [
      "\u001b[0;31m---------------------------------------------------------------------------\u001b[0m",
      "\u001b[0;31mAttributeError\u001b[0m                            Traceback (most recent call last)",
      "\u001b[0;32m<ipython-input-82-915ec4b68c5e>\u001b[0m in \u001b[0;36m<module>\u001b[0;34m()\u001b[0m\n\u001b[1;32m      1\u001b[0m \u001b[1;31m#this could be good... it says 'take all of the month columns and sum them based on the incident type.\u001b[0m\u001b[1;33m\u001b[0m\u001b[1;33m\u001b[0m\u001b[0m\n\u001b[1;32m      2\u001b[0m \u001b[1;31m# so 21 abandoned 911 calls have been reported in the 12 january's between 2004 and 2016\u001b[0m\u001b[1;33m\u001b[0m\u001b[1;33m\u001b[0m\u001b[0m\n\u001b[0;32m----> 3\u001b[0;31m \u001b[0msum_by_month\u001b[0m\u001b[1;33m=\u001b[0m \u001b[0mdf\u001b[0m\u001b[1;33m.\u001b[0m\u001b[0msum\u001b[0m\u001b[1;33m(\u001b[0m\u001b[0mlevel\u001b[0m \u001b[1;33m=\u001b[0m \u001b[1;36m1\u001b[0m\u001b[1;33m)\u001b[0m\u001b[1;33m\u001b[0m\u001b[0m\n\u001b[0m",
      "\u001b[0;31mAttributeError\u001b[0m: 'list' object has no attribute 'sum'"
     ]
    }
   ],
   "source": [
    "#this could be good... it says 'take all of the month columns and sum them based on the incident type.\n",
    "# so 21 abandoned 911 calls have been reported in the 12 january's between 2004 and 2016\n",
    "sum_by_month= df.sum(level = 1)\n",
    "# but this is broken until you have a multi index"
   ]
  },
  {
   "cell_type": "code",
   "execution_count": 116,
   "metadata": {
    "collapsed": false
   },
   "outputs": [
    {
     "data": {
      "text/plain": [
       "abandoned 911 call                     21.0\n",
       "abandoned vehicle                    1016.0\n",
       "abduction                              11.0\n",
       "abduction - non-parent                  2.0\n",
       "abduction - parent                     15.0\n",
       "accident - non-vehicle                  6.0\n",
       "administrative duties                   0.0\n",
       "alarm - law only                     4517.0\n",
       "animal call                            31.0\n",
       "animal call - past                      1.0\n",
       "assault                               981.0\n",
       "assault - past                        675.0\n",
       "assist an agency                      178.0\n",
       "assist person                         103.0\n",
       "auto theft                            538.0\n",
       "auto theft - past                     407.0\n",
       "bomb device law                         2.0\n",
       "break                                   1.0\n",
       "burglary - commercial                 107.0\n",
       "burglary - commercial - past          357.0\n",
       "burglary - residential                296.0\n",
       "burglary - residential - past        1368.0\n",
       "check building                         42.0\n",
       "check person                          931.0\n",
       "check person - weapon                  92.0\n",
       "check vehicle                         150.0\n",
       "check well-being                      854.0\n",
       "check well-being - comb                 8.0\n",
       "child abuse                           561.0\n",
       "citizen contact info                    0.0\n",
       "                                      ...  \n",
       "special assignment                      0.0\n",
       "stalking                               31.0\n",
       "stalled vehicle                        39.0\n",
       "stealing                             1882.0\n",
       "stealing - past                      4455.0\n",
       "stealing from a vehicle              1114.0\n",
       "stealing from a vehicle - past       1449.0\n",
       "suicide                                24.0\n",
       "suicide attempt                        47.0\n",
       "suicide attempt - comb                  9.0\n",
       "terrorist threat                        0.0\n",
       "terrorist threat - past                 0.0\n",
       "traffic control                         3.0\n",
       "traffic enforcement                     0.0\n",
       "traffic violation - moving             63.0\n",
       "traffic violation - non-moving         60.0\n",
       "train emergency                         1.0\n",
       "trespassing                           280.0\n",
       "trespassing - past                     63.0\n",
       "vandalism                             836.0\n",
       "vandalism - past                     1329.0\n",
       "vehicle accident - fatal                2.0\n",
       "vehicle accident - injury            1173.0\n",
       "vehicle accident - injury - comb       24.0\n",
       "vehicle accident - left the scene    1343.0\n",
       "vehicle accident - non-injury        5310.0\n",
       "vehicle accident - past              1307.0\n",
       "vehicle maintenance                     0.0\n",
       "warrant - arrest                     4410.0\n",
       "warrant - search                      179.0\n",
       "Name: jan, dtype: float64"
      ]
     },
     "execution_count": 116,
     "metadata": {},
     "output_type": "execute_result"
    }
   ],
   "source": [
    "def most_by_month():\n",
    "    pass\n",
    "sum_by_month.ix['jan']"
   ]
  },
  {
   "cell_type": "code",
   "execution_count": 29,
   "metadata": {
    "collapsed": false
   },
   "outputs": [
    {
     "data": {
      "text/plain": [
       "[('stealing - past', 7033.0),\n",
       " ('stealing - past', 7909.0),\n",
       " ('vehicle accident - non-injury', 6084.0),\n",
       " ('vehicle accident - non-injury', 6151.0),\n",
       " ('vehicle accident - non-injury', 5483.0),\n",
       " ('vehicle accident - non-injury', 5363.0),\n",
       " ('vehicle accident - non-injury', 5167.0),\n",
       " ('vehicle accident - non-injury', 5179.0),\n",
       " ('vehicle accident - non-injury', 5220.0),\n",
       " ('vehicle accident - non-injury', 5076.0),\n",
       " ('alarm - law only', 4321.0),\n",
       " ('alarm - law only', 4040.0),\n",
       " ('alarm - law only', 3635.0)]"
      ]
     },
     "execution_count": 29,
     "metadata": {},
     "output_type": "execute_result"
    }
   ],
   "source": [
    "#df.ix[2004]['vehicle accident - injury'].plot()\n",
    "#df.plot.hist(figsize = (30,50),orientation = 'horizontal')\n",
    "\n",
    "def most_commits(dataf):\n",
    "    most = 0.0\n",
    "    for i in dataf:\n",
    "        if dataf[i].sum() > most:\n",
    "            most = dataf[i].sum()\n",
    "            result = (i, dataf[i].sum())\n",
    "    return result\n",
    "\n",
    "def most_reports_by_year(dataf):\n",
    "    final = []\n",
    "    for year in range(2004,2017):\n",
    "        most = 0.0\n",
    "        result = None\n",
    "        for i in dataf:\n",
    "            if dataf.ix[year][i].sum() > most:\n",
    "                most = dataf.ix[year][i].sum()\n",
    "                result = (i,dataf.ix[year][i].sum())\n",
    "        final.append(result)\n",
    "    return final\n",
    "            \n",
    "result = most_commits(df)\n",
    "by_year = most_reports_by_year(df)\n",
    "\n",
    "by_year\n",
    "#my_result = [df.ix[year]['vehicle accident - non-injury'].sum() for year in range(2004,2017)]\n",
    "#print(sum(my_result))\n",
    "#print(result)\n",
    "#print(df.ix[2004]['vehicle accident - non-injury'].sum())\n",
    "\n",
    "#df['vehicle accident - left the scene'].plot(subplots =True, figsize = (5,4))\n",
    "\n",
    "\n",
    "#max([df[i].sum() for i in df])"
   ]
  },
  {
   "cell_type": "code",
   "execution_count": null,
   "metadata": {
    "collapsed": true
   },
   "outputs": [],
   "source": []
  },
  {
   "cell_type": "code",
   "execution_count": 69,
   "metadata": {
    "collapsed": false
   },
   "outputs": [
    {
     "ename": "KeyError",
     "evalue": "127",
     "output_type": "error",
     "traceback": [
      "\u001b[0;31m---------------------------------------------------------------------------\u001b[0m",
      "\u001b[0;31mKeyError\u001b[0m                                  Traceback (most recent call last)",
      "\u001b[0;32mC:\\Users\\Tyler\\Anaconda3\\lib\\site-packages\\pandas\\indexes\\base.py\u001b[0m in \u001b[0;36mget_loc\u001b[0;34m(self, key, method, tolerance)\u001b[0m\n\u001b[1;32m   2133\u001b[0m             \u001b[1;32mtry\u001b[0m\u001b[1;33m:\u001b[0m\u001b[1;33m\u001b[0m\u001b[0m\n\u001b[0;32m-> 2134\u001b[0;31m                 \u001b[1;32mreturn\u001b[0m \u001b[0mself\u001b[0m\u001b[1;33m.\u001b[0m\u001b[0m_engine\u001b[0m\u001b[1;33m.\u001b[0m\u001b[0mget_loc\u001b[0m\u001b[1;33m(\u001b[0m\u001b[0mkey\u001b[0m\u001b[1;33m)\u001b[0m\u001b[1;33m\u001b[0m\u001b[0m\n\u001b[0m\u001b[1;32m   2135\u001b[0m             \u001b[1;32mexcept\u001b[0m \u001b[0mKeyError\u001b[0m\u001b[1;33m:\u001b[0m\u001b[1;33m\u001b[0m\u001b[0m\n",
      "\u001b[0;32mpandas\\index.pyx\u001b[0m in \u001b[0;36mpandas.index.IndexEngine.get_loc (pandas\\index.c:4433)\u001b[0;34m()\u001b[0m\n",
      "\u001b[0;32mpandas\\index.pyx\u001b[0m in \u001b[0;36mpandas.index.IndexEngine.get_loc (pandas\\index.c:4279)\u001b[0;34m()\u001b[0m\n",
      "\u001b[0;32mpandas\\src\\hashtable_class_helper.pxi\u001b[0m in \u001b[0;36mpandas.hashtable.PyObjectHashTable.get_item (pandas\\hashtable.c:13742)\u001b[0;34m()\u001b[0m\n",
      "\u001b[0;32mpandas\\src\\hashtable_class_helper.pxi\u001b[0m in \u001b[0;36mpandas.hashtable.PyObjectHashTable.get_item (pandas\\hashtable.c:13696)\u001b[0;34m()\u001b[0m\n",
      "\u001b[0;31mKeyError\u001b[0m: 127",
      "\nDuring handling of the above exception, another exception occurred:\n",
      "\u001b[0;31mKeyError\u001b[0m                                  Traceback (most recent call last)",
      "\u001b[0;32m<ipython-input-69-60236669e782>\u001b[0m in \u001b[0;36m<module>\u001b[0;34m()\u001b[0m\n\u001b[1;32m      3\u001b[0m     \u001b[1;31m#return data.ix[begin_year:end_year,[report_type]]\u001b[0m\u001b[1;33m\u001b[0m\u001b[1;33m\u001b[0m\u001b[0m\n\u001b[1;32m      4\u001b[0m \u001b[1;33m\u001b[0m\u001b[0m\n\u001b[0;32m----> 5\u001b[0;31m \u001b[0mtest\u001b[0m \u001b[1;33m=\u001b[0m \u001b[0msorted\u001b[0m\u001b[1;33m(\u001b[0m\u001b[1;33m(\u001b[0m\u001b[0mcount\u001b[0m\u001b[1;33m,\u001b[0m \u001b[0mname\u001b[0m\u001b[1;33m)\u001b[0m \u001b[1;32mfor\u001b[0m \u001b[0mcount\u001b[0m \u001b[1;32min\u001b[0m \u001b[0menumerate\u001b[0m\u001b[1;33m(\u001b[0m\u001b[0mdf\u001b[0m\u001b[1;33m[\u001b[0m\u001b[0mi\u001b[0m\u001b[1;33m]\u001b[0m\u001b[1;33m.\u001b[0m\u001b[0msum\u001b[0m\u001b[1;33m)\u001b[0m\u001b[1;33m)\u001b[0m\u001b[1;33m\u001b[0m\u001b[0m\n\u001b[0m",
      "\u001b[0;32mC:\\Users\\Tyler\\Anaconda3\\lib\\site-packages\\pandas\\core\\frame.py\u001b[0m in \u001b[0;36m__getitem__\u001b[0;34m(self, key)\u001b[0m\n\u001b[1;32m   2057\u001b[0m             \u001b[1;32mreturn\u001b[0m \u001b[0mself\u001b[0m\u001b[1;33m.\u001b[0m\u001b[0m_getitem_multilevel\u001b[0m\u001b[1;33m(\u001b[0m\u001b[0mkey\u001b[0m\u001b[1;33m)\u001b[0m\u001b[1;33m\u001b[0m\u001b[0m\n\u001b[1;32m   2058\u001b[0m         \u001b[1;32melse\u001b[0m\u001b[1;33m:\u001b[0m\u001b[1;33m\u001b[0m\u001b[0m\n\u001b[0;32m-> 2059\u001b[0;31m             \u001b[1;32mreturn\u001b[0m \u001b[0mself\u001b[0m\u001b[1;33m.\u001b[0m\u001b[0m_getitem_column\u001b[0m\u001b[1;33m(\u001b[0m\u001b[0mkey\u001b[0m\u001b[1;33m)\u001b[0m\u001b[1;33m\u001b[0m\u001b[0m\n\u001b[0m\u001b[1;32m   2060\u001b[0m \u001b[1;33m\u001b[0m\u001b[0m\n\u001b[1;32m   2061\u001b[0m     \u001b[1;32mdef\u001b[0m \u001b[0m_getitem_column\u001b[0m\u001b[1;33m(\u001b[0m\u001b[0mself\u001b[0m\u001b[1;33m,\u001b[0m \u001b[0mkey\u001b[0m\u001b[1;33m)\u001b[0m\u001b[1;33m:\u001b[0m\u001b[1;33m\u001b[0m\u001b[0m\n",
      "\u001b[0;32mC:\\Users\\Tyler\\Anaconda3\\lib\\site-packages\\pandas\\core\\frame.py\u001b[0m in \u001b[0;36m_getitem_column\u001b[0;34m(self, key)\u001b[0m\n\u001b[1;32m   2064\u001b[0m         \u001b[1;31m# get column\u001b[0m\u001b[1;33m\u001b[0m\u001b[1;33m\u001b[0m\u001b[0m\n\u001b[1;32m   2065\u001b[0m         \u001b[1;32mif\u001b[0m \u001b[0mself\u001b[0m\u001b[1;33m.\u001b[0m\u001b[0mcolumns\u001b[0m\u001b[1;33m.\u001b[0m\u001b[0mis_unique\u001b[0m\u001b[1;33m:\u001b[0m\u001b[1;33m\u001b[0m\u001b[0m\n\u001b[0;32m-> 2066\u001b[0;31m             \u001b[1;32mreturn\u001b[0m \u001b[0mself\u001b[0m\u001b[1;33m.\u001b[0m\u001b[0m_get_item_cache\u001b[0m\u001b[1;33m(\u001b[0m\u001b[0mkey\u001b[0m\u001b[1;33m)\u001b[0m\u001b[1;33m\u001b[0m\u001b[0m\n\u001b[0m\u001b[1;32m   2067\u001b[0m \u001b[1;33m\u001b[0m\u001b[0m\n\u001b[1;32m   2068\u001b[0m         \u001b[1;31m# duplicate columns & possible reduce dimensionality\u001b[0m\u001b[1;33m\u001b[0m\u001b[1;33m\u001b[0m\u001b[0m\n",
      "\u001b[0;32mC:\\Users\\Tyler\\Anaconda3\\lib\\site-packages\\pandas\\core\\generic.py\u001b[0m in \u001b[0;36m_get_item_cache\u001b[0;34m(self, item)\u001b[0m\n\u001b[1;32m   1384\u001b[0m         \u001b[0mres\u001b[0m \u001b[1;33m=\u001b[0m \u001b[0mcache\u001b[0m\u001b[1;33m.\u001b[0m\u001b[0mget\u001b[0m\u001b[1;33m(\u001b[0m\u001b[0mitem\u001b[0m\u001b[1;33m)\u001b[0m\u001b[1;33m\u001b[0m\u001b[0m\n\u001b[1;32m   1385\u001b[0m         \u001b[1;32mif\u001b[0m \u001b[0mres\u001b[0m \u001b[1;32mis\u001b[0m \u001b[1;32mNone\u001b[0m\u001b[1;33m:\u001b[0m\u001b[1;33m\u001b[0m\u001b[0m\n\u001b[0;32m-> 1386\u001b[0;31m             \u001b[0mvalues\u001b[0m \u001b[1;33m=\u001b[0m \u001b[0mself\u001b[0m\u001b[1;33m.\u001b[0m\u001b[0m_data\u001b[0m\u001b[1;33m.\u001b[0m\u001b[0mget\u001b[0m\u001b[1;33m(\u001b[0m\u001b[0mitem\u001b[0m\u001b[1;33m)\u001b[0m\u001b[1;33m\u001b[0m\u001b[0m\n\u001b[0m\u001b[1;32m   1387\u001b[0m             \u001b[0mres\u001b[0m \u001b[1;33m=\u001b[0m \u001b[0mself\u001b[0m\u001b[1;33m.\u001b[0m\u001b[0m_box_item_values\u001b[0m\u001b[1;33m(\u001b[0m\u001b[0mitem\u001b[0m\u001b[1;33m,\u001b[0m \u001b[0mvalues\u001b[0m\u001b[1;33m)\u001b[0m\u001b[1;33m\u001b[0m\u001b[0m\n\u001b[1;32m   1388\u001b[0m             \u001b[0mcache\u001b[0m\u001b[1;33m[\u001b[0m\u001b[0mitem\u001b[0m\u001b[1;33m]\u001b[0m \u001b[1;33m=\u001b[0m \u001b[0mres\u001b[0m\u001b[1;33m\u001b[0m\u001b[0m\n",
      "\u001b[0;32mC:\\Users\\Tyler\\Anaconda3\\lib\\site-packages\\pandas\\core\\internals.py\u001b[0m in \u001b[0;36mget\u001b[0;34m(self, item, fastpath)\u001b[0m\n\u001b[1;32m   3541\u001b[0m \u001b[1;33m\u001b[0m\u001b[0m\n\u001b[1;32m   3542\u001b[0m             \u001b[1;32mif\u001b[0m \u001b[1;32mnot\u001b[0m \u001b[0misnull\u001b[0m\u001b[1;33m(\u001b[0m\u001b[0mitem\u001b[0m\u001b[1;33m)\u001b[0m\u001b[1;33m:\u001b[0m\u001b[1;33m\u001b[0m\u001b[0m\n\u001b[0;32m-> 3543\u001b[0;31m                 \u001b[0mloc\u001b[0m \u001b[1;33m=\u001b[0m \u001b[0mself\u001b[0m\u001b[1;33m.\u001b[0m\u001b[0mitems\u001b[0m\u001b[1;33m.\u001b[0m\u001b[0mget_loc\u001b[0m\u001b[1;33m(\u001b[0m\u001b[0mitem\u001b[0m\u001b[1;33m)\u001b[0m\u001b[1;33m\u001b[0m\u001b[0m\n\u001b[0m\u001b[1;32m   3544\u001b[0m             \u001b[1;32melse\u001b[0m\u001b[1;33m:\u001b[0m\u001b[1;33m\u001b[0m\u001b[0m\n\u001b[1;32m   3545\u001b[0m                 \u001b[0mindexer\u001b[0m \u001b[1;33m=\u001b[0m \u001b[0mnp\u001b[0m\u001b[1;33m.\u001b[0m\u001b[0marange\u001b[0m\u001b[1;33m(\u001b[0m\u001b[0mlen\u001b[0m\u001b[1;33m(\u001b[0m\u001b[0mself\u001b[0m\u001b[1;33m.\u001b[0m\u001b[0mitems\u001b[0m\u001b[1;33m)\u001b[0m\u001b[1;33m)\u001b[0m\u001b[1;33m[\u001b[0m\u001b[0misnull\u001b[0m\u001b[1;33m(\u001b[0m\u001b[0mself\u001b[0m\u001b[1;33m.\u001b[0m\u001b[0mitems\u001b[0m\u001b[1;33m)\u001b[0m\u001b[1;33m]\u001b[0m\u001b[1;33m\u001b[0m\u001b[0m\n",
      "\u001b[0;32mC:\\Users\\Tyler\\Anaconda3\\lib\\site-packages\\pandas\\indexes\\base.py\u001b[0m in \u001b[0;36mget_loc\u001b[0;34m(self, key, method, tolerance)\u001b[0m\n\u001b[1;32m   2134\u001b[0m                 \u001b[1;32mreturn\u001b[0m \u001b[0mself\u001b[0m\u001b[1;33m.\u001b[0m\u001b[0m_engine\u001b[0m\u001b[1;33m.\u001b[0m\u001b[0mget_loc\u001b[0m\u001b[1;33m(\u001b[0m\u001b[0mkey\u001b[0m\u001b[1;33m)\u001b[0m\u001b[1;33m\u001b[0m\u001b[0m\n\u001b[1;32m   2135\u001b[0m             \u001b[1;32mexcept\u001b[0m \u001b[0mKeyError\u001b[0m\u001b[1;33m:\u001b[0m\u001b[1;33m\u001b[0m\u001b[0m\n\u001b[0;32m-> 2136\u001b[0;31m                 \u001b[1;32mreturn\u001b[0m \u001b[0mself\u001b[0m\u001b[1;33m.\u001b[0m\u001b[0m_engine\u001b[0m\u001b[1;33m.\u001b[0m\u001b[0mget_loc\u001b[0m\u001b[1;33m(\u001b[0m\u001b[0mself\u001b[0m\u001b[1;33m.\u001b[0m\u001b[0m_maybe_cast_indexer\u001b[0m\u001b[1;33m(\u001b[0m\u001b[0mkey\u001b[0m\u001b[1;33m)\u001b[0m\u001b[1;33m)\u001b[0m\u001b[1;33m\u001b[0m\u001b[0m\n\u001b[0m\u001b[1;32m   2137\u001b[0m \u001b[1;33m\u001b[0m\u001b[0m\n\u001b[1;32m   2138\u001b[0m         \u001b[0mindexer\u001b[0m \u001b[1;33m=\u001b[0m \u001b[0mself\u001b[0m\u001b[1;33m.\u001b[0m\u001b[0mget_indexer\u001b[0m\u001b[1;33m(\u001b[0m\u001b[1;33m[\u001b[0m\u001b[0mkey\u001b[0m\u001b[1;33m]\u001b[0m\u001b[1;33m,\u001b[0m \u001b[0mmethod\u001b[0m\u001b[1;33m=\u001b[0m\u001b[0mmethod\u001b[0m\u001b[1;33m,\u001b[0m \u001b[0mtolerance\u001b[0m\u001b[1;33m=\u001b[0m\u001b[0mtolerance\u001b[0m\u001b[1;33m)\u001b[0m\u001b[1;33m\u001b[0m\u001b[0m\n",
      "\u001b[0;32mpandas\\index.pyx\u001b[0m in \u001b[0;36mpandas.index.IndexEngine.get_loc (pandas\\index.c:4433)\u001b[0;34m()\u001b[0m\n",
      "\u001b[0;32mpandas\\index.pyx\u001b[0m in \u001b[0;36mpandas.index.IndexEngine.get_loc (pandas\\index.c:4279)\u001b[0;34m()\u001b[0m\n",
      "\u001b[0;32mpandas\\src\\hashtable_class_helper.pxi\u001b[0m in \u001b[0;36mpandas.hashtable.PyObjectHashTable.get_item (pandas\\hashtable.c:13742)\u001b[0;34m()\u001b[0m\n",
      "\u001b[0;32mpandas\\src\\hashtable_class_helper.pxi\u001b[0m in \u001b[0;36mpandas.hashtable.PyObjectHashTable.get_item (pandas\\hashtable.c:13696)\u001b[0;34m()\u001b[0m\n",
      "\u001b[0;31mKeyError\u001b[0m: 127"
     ]
    }
   ],
   "source": [
    "def bar_plot_by_year(report_type,data = df, begin_year = 2004, end_year = 2016):\n",
    "    return data.plot.bar()\n",
    "    #return data.ix[begin_year:end_year,[report_type]]\n",
    "    \n",
    "df.ix[2004:2005]"
   ]
  },
  {
   "cell_type": "code",
   "execution_count": 6,
   "metadata": {
    "collapsed": false,
    "scrolled": true
   },
   "outputs": [],
   "source": []
  },
  {
   "cell_type": "code",
   "execution_count": null,
   "metadata": {
    "collapsed": true
   },
   "outputs": [],
   "source": []
  }
 ],
 "metadata": {
  "kernelspec": {
   "display_name": "Python 3",
   "language": "python",
   "name": "python3"
  },
  "language_info": {
   "codemirror_mode": {
    "name": "ipython",
    "version": 3
   },
   "file_extension": ".py",
   "mimetype": "text/x-python",
   "name": "python",
   "nbconvert_exporter": "python",
   "pygments_lexer": "ipython3",
   "version": "3.6.0"
  }
 },
 "nbformat": 4,
 "nbformat_minor": 2
}
