{
 "cells": [
  {
   "cell_type": "code",
   "execution_count": 58,
   "metadata": {
    "collapsed": false
   },
   "outputs": [],
   "source": [
    "% matplotlib inline\n",
    "import pandas as pd\n",
    "import json\n",
    "#TODO split json files to own folder, load from there, make everything a class.\n",
    "def load_data():\n",
    "    '''Loads json file, sorts year values, and concats in to a Pandas DataFrame'''\n",
    "    with open('monthly-stats-2004-2016.txt','r') as f:\n",
    "        data = json.load(f)\n",
    "    frames = sorted([year for year in data])\n",
    "    months = ['jan','feb','mar','apr','may','jun','jul','aug','sep','oct','nov','dec']\n",
    "    df = pd.concat([pd.DataFrame(data[year], index = [months]) for year in frames],keys = [year for year in range(2004,2017)])\n",
    "    \n",
    "    #df_frames = [pd.DataFrame(data[year], index = [months]) for year in frames]\n",
    "    #df = pd.concat(df_frames, keys=[year for year in range(2004,2017)])\n",
    "    return df"
   ]
  },
  {
   "cell_type": "code",
   "execution_count": 60,
   "metadata": {
    "collapsed": false
   },
   "outputs": [
    {
     "data": {
      "text/html": [
       "<div>\n",
       "<table border=\"1\" class=\"dataframe\">\n",
       "  <thead>\n",
       "    <tr style=\"text-align: right;\">\n",
       "      <th></th>\n",
       "      <th></th>\n",
       "      <th>abandoned 911 call</th>\n",
       "      <th>abandoned vehicle</th>\n",
       "      <th>abduction</th>\n",
       "      <th>abduction - non-parent</th>\n",
       "      <th>abduction - parent</th>\n",
       "      <th>accident - non-vehicle</th>\n",
       "      <th>administrative duties</th>\n",
       "      <th>alarm - law only</th>\n",
       "      <th>animal call</th>\n",
       "      <th>animal call - past</th>\n",
       "      <th>...</th>\n",
       "      <th>vandalism - past</th>\n",
       "      <th>vehicle accident - fatal</th>\n",
       "      <th>vehicle accident - injury</th>\n",
       "      <th>vehicle accident - injury - comb</th>\n",
       "      <th>vehicle accident - left the scene</th>\n",
       "      <th>vehicle accident - non-injury</th>\n",
       "      <th>vehicle accident - past</th>\n",
       "      <th>vehicle maintenance</th>\n",
       "      <th>warrant - arrest</th>\n",
       "      <th>warrant - search</th>\n",
       "    </tr>\n",
       "  </thead>\n",
       "  <tbody>\n",
       "    <tr>\n",
       "      <th rowspan=\"5\" valign=\"top\">2004</th>\n",
       "      <th>jan</th>\n",
       "      <td>5.0</td>\n",
       "      <td>81.0</td>\n",
       "      <td>4.0</td>\n",
       "      <td>1.0</td>\n",
       "      <td>1.0</td>\n",
       "      <td>1.0</td>\n",
       "      <td>0.0</td>\n",
       "      <td>367.0</td>\n",
       "      <td>5.0</td>\n",
       "      <td>0.0</td>\n",
       "      <td>...</td>\n",
       "      <td>225.0</td>\n",
       "      <td>0.0</td>\n",
       "      <td>55.0</td>\n",
       "      <td>24.0</td>\n",
       "      <td>68.0</td>\n",
       "      <td>526.0</td>\n",
       "      <td>140.0</td>\n",
       "      <td>0.0</td>\n",
       "      <td>263.0</td>\n",
       "      <td>35.0</td>\n",
       "    </tr>\n",
       "    <tr>\n",
       "      <th>feb</th>\n",
       "      <td>4.0</td>\n",
       "      <td>63.0</td>\n",
       "      <td>2.0</td>\n",
       "      <td>0.0</td>\n",
       "      <td>2.0</td>\n",
       "      <td>0.0</td>\n",
       "      <td>0.0</td>\n",
       "      <td>315.0</td>\n",
       "      <td>6.0</td>\n",
       "      <td>0.0</td>\n",
       "      <td>...</td>\n",
       "      <td>100.0</td>\n",
       "      <td>0.0</td>\n",
       "      <td>71.0</td>\n",
       "      <td>0.0</td>\n",
       "      <td>59.0</td>\n",
       "      <td>418.0</td>\n",
       "      <td>150.0</td>\n",
       "      <td>0.0</td>\n",
       "      <td>273.0</td>\n",
       "      <td>25.0</td>\n",
       "    </tr>\n",
       "    <tr>\n",
       "      <th>mar</th>\n",
       "      <td>8.0</td>\n",
       "      <td>97.0</td>\n",
       "      <td>4.0</td>\n",
       "      <td>0.0</td>\n",
       "      <td>1.0</td>\n",
       "      <td>1.0</td>\n",
       "      <td>0.0</td>\n",
       "      <td>359.0</td>\n",
       "      <td>4.0</td>\n",
       "      <td>0.0</td>\n",
       "      <td>...</td>\n",
       "      <td>148.0</td>\n",
       "      <td>0.0</td>\n",
       "      <td>67.0</td>\n",
       "      <td>0.0</td>\n",
       "      <td>67.0</td>\n",
       "      <td>532.0</td>\n",
       "      <td>171.0</td>\n",
       "      <td>0.0</td>\n",
       "      <td>318.0</td>\n",
       "      <td>23.0</td>\n",
       "    </tr>\n",
       "    <tr>\n",
       "      <th>apr</th>\n",
       "      <td>2.0</td>\n",
       "      <td>82.0</td>\n",
       "      <td>1.0</td>\n",
       "      <td>0.0</td>\n",
       "      <td>1.0</td>\n",
       "      <td>0.0</td>\n",
       "      <td>0.0</td>\n",
       "      <td>327.0</td>\n",
       "      <td>2.0</td>\n",
       "      <td>0.0</td>\n",
       "      <td>...</td>\n",
       "      <td>105.0</td>\n",
       "      <td>0.0</td>\n",
       "      <td>107.0</td>\n",
       "      <td>0.0</td>\n",
       "      <td>57.0</td>\n",
       "      <td>561.0</td>\n",
       "      <td>184.0</td>\n",
       "      <td>0.0</td>\n",
       "      <td>323.0</td>\n",
       "      <td>10.0</td>\n",
       "    </tr>\n",
       "    <tr>\n",
       "      <th>may</th>\n",
       "      <td>2.0</td>\n",
       "      <td>107.0</td>\n",
       "      <td>2.0</td>\n",
       "      <td>0.0</td>\n",
       "      <td>1.0</td>\n",
       "      <td>0.0</td>\n",
       "      <td>0.0</td>\n",
       "      <td>370.0</td>\n",
       "      <td>10.0</td>\n",
       "      <td>0.0</td>\n",
       "      <td>...</td>\n",
       "      <td>154.0</td>\n",
       "      <td>0.0</td>\n",
       "      <td>103.0</td>\n",
       "      <td>0.0</td>\n",
       "      <td>72.0</td>\n",
       "      <td>530.0</td>\n",
       "      <td>156.0</td>\n",
       "      <td>0.0</td>\n",
       "      <td>280.0</td>\n",
       "      <td>12.0</td>\n",
       "    </tr>\n",
       "  </tbody>\n",
       "</table>\n",
       "<p>5 rows × 128 columns</p>\n",
       "</div>"
      ],
      "text/plain": [
       "          abandoned 911 call  abandoned vehicle  abduction  \\\n",
       "2004 jan                 5.0               81.0        4.0   \n",
       "     feb                 4.0               63.0        2.0   \n",
       "     mar                 8.0               97.0        4.0   \n",
       "     apr                 2.0               82.0        1.0   \n",
       "     may                 2.0              107.0        2.0   \n",
       "\n",
       "          abduction - non-parent  abduction - parent  accident - non-vehicle  \\\n",
       "2004 jan                     1.0                 1.0                     1.0   \n",
       "     feb                     0.0                 2.0                     0.0   \n",
       "     mar                     0.0                 1.0                     1.0   \n",
       "     apr                     0.0                 1.0                     0.0   \n",
       "     may                     0.0                 1.0                     0.0   \n",
       "\n",
       "          administrative duties  alarm - law only  animal call  \\\n",
       "2004 jan                    0.0             367.0          5.0   \n",
       "     feb                    0.0             315.0          6.0   \n",
       "     mar                    0.0             359.0          4.0   \n",
       "     apr                    0.0             327.0          2.0   \n",
       "     may                    0.0             370.0         10.0   \n",
       "\n",
       "          animal call - past        ...         vandalism - past  \\\n",
       "2004 jan                 0.0        ...                    225.0   \n",
       "     feb                 0.0        ...                    100.0   \n",
       "     mar                 0.0        ...                    148.0   \n",
       "     apr                 0.0        ...                    105.0   \n",
       "     may                 0.0        ...                    154.0   \n",
       "\n",
       "          vehicle accident - fatal  vehicle accident - injury  \\\n",
       "2004 jan                       0.0                       55.0   \n",
       "     feb                       0.0                       71.0   \n",
       "     mar                       0.0                       67.0   \n",
       "     apr                       0.0                      107.0   \n",
       "     may                       0.0                      103.0   \n",
       "\n",
       "          vehicle accident - injury - comb  vehicle accident - left the scene  \\\n",
       "2004 jan                              24.0                               68.0   \n",
       "     feb                               0.0                               59.0   \n",
       "     mar                               0.0                               67.0   \n",
       "     apr                               0.0                               57.0   \n",
       "     may                               0.0                               72.0   \n",
       "\n",
       "          vehicle accident - non-injury  vehicle accident - past  \\\n",
       "2004 jan                          526.0                    140.0   \n",
       "     feb                          418.0                    150.0   \n",
       "     mar                          532.0                    171.0   \n",
       "     apr                          561.0                    184.0   \n",
       "     may                          530.0                    156.0   \n",
       "\n",
       "          vehicle maintenance  warrant - arrest  warrant - search  \n",
       "2004 jan                  0.0             263.0              35.0  \n",
       "     feb                  0.0             273.0              25.0  \n",
       "     mar                  0.0             318.0              23.0  \n",
       "     apr                  0.0             323.0              10.0  \n",
       "     may                  0.0             280.0              12.0  \n",
       "\n",
       "[5 rows x 128 columns]"
      ]
     },
     "execution_count": 60,
     "metadata": {},
     "output_type": "execute_result"
    }
   ],
   "source": [
    "df = load_data()\n",
    "df.head()"
   ]
  },
  {
   "cell_type": "code",
   "execution_count": 51,
   "metadata": {
    "collapsed": false
   },
   "outputs": [
    {
     "data": {
      "text/plain": [
       "<matplotlib.axes._subplots.AxesSubplot at 0x2495d2195c0>"
      ]
     },
     "execution_count": 51,
     "metadata": {},
     "output_type": "execute_result"
    },
    {
     "data": {
      "image/png": "[encoded data removed]",
      "text/plain": [
       "<matplotlib.figure.Figure at 0x2495cb3f2b0>"
      ]
     },
     "metadata": {},
     "output_type": "display_data"
    }
   ],
   "source": [
    "\n",
    "\n",
    "df.ix[2004:2008]['suicide'].plot()"
   ]
  },
  {
   "cell_type": "code",
   "execution_count": 10,
   "metadata": {
    "collapsed": false
   },
   "outputs": [
    {
     "data": {
      "text/plain": [
       "<matplotlib.axes._subplots.AxesSubplot at 0x15c79d56c50>"
      ]
     },
     "execution_count": 10,
     "metadata": {},
     "output_type": "execute_result"
    },
    {
     "data": {
      "image/png": "[encoded data removed]",
      "text/plain": [
       "<matplotlib.figure.Figure at 0x15c799b9908>"
      ]
     },
     "metadata": {},
     "output_type": "display_data"
    }
   ],
   "source": []
  },
  {
   "cell_type": "code",
   "execution_count": 16,
   "metadata": {
    "collapsed": false,
    "scrolled": true
   },
   "outputs": [
    {
     "ename": "ModuleNotFoundError",
     "evalue": "No module named 'html5lib'",
     "output_type": "error",
     "traceback": [
      "\u001b[0;31m---------------------------------------------------------------------------\u001b[0m",
      "\u001b[0;31mModuleNotFoundError\u001b[0m                       Traceback (most recent call last)",
      "\u001b[0;32m<ipython-input-16-6b6047d29e0c>\u001b[0m in \u001b[0;36m<module>\u001b[0;34m()\u001b[0m\n\u001b[1;32m      1\u001b[0m \u001b[1;31m#install html5lib to for read_html() to work\u001b[0m\u001b[1;33m\u001b[0m\u001b[1;33m\u001b[0m\u001b[0m\n\u001b[0;32m----> 2\u001b[0;31m \u001b[1;32mimport\u001b[0m \u001b[0mhtml5lib\u001b[0m\u001b[1;33m\u001b[0m\u001b[0m\n\u001b[0m",
      "\u001b[0;31mModuleNotFoundError\u001b[0m: No module named 'html5lib'"
     ]
    }
   ],
   "source": [
    "#install html5lib to for read_html() to work"
   ]
  },
  {
   "cell_type": "code",
   "execution_count": null,
   "metadata": {
    "collapsed": true
   },
   "outputs": [],
   "source": []
  }
 ],
 "metadata": {
  "kernelspec": {
   "display_name": "Python 3",
   "language": "python",
   "name": "python3"
  },
  "language_info": {
   "codemirror_mode": {
    "name": "ipython",
    "version": 3
   },
   "file_extension": ".py",
   "mimetype": "text/x-python",
   "name": "python",
   "nbconvert_exporter": "python",
   "pygments_lexer": "ipython3",
   "version": "3.6.0"
  }
 },
 "nbformat": 4,
 "nbformat_minor": 2
}
