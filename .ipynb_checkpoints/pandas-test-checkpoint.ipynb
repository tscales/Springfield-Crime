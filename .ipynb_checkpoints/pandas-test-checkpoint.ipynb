{
 "cells": [
  {
   "cell_type": "code",
   "execution_count": 1,
   "metadata": {
    "collapsed": false,
    "scrolled": false
   },
   "outputs": [],
   "source": [
    "%matplotlib inline\n",
    "\n",
    "import json\n",
    "import pandas as pd\n",
    "import matplotlib\n",
    "import matplotlib.pyplot as plt\n",
    "\n",
    "#matplotlib.style.use('ggplot')\n",
    "filename = 'monthly-stats-2004-2016.txt'\n",
    "with open(filename,'r') as f:\n",
    "    data = json.load(f)\n",
    "\n",
    "#data = {'2004':{'jan':{'911':15},'feb':{'911':15}}}\n",
    "#make a dataframe for each year\n",
    "\n",
    "four=  pd.DataFrame(data['2004'])\n",
    "five=  pd.DataFrame(data['2005'])\n",
    "six=   pd.DataFrame(data['2006'])\n",
    "seven= pd.DataFrame(data['2007'])\n",
    "eight= pd.DataFrame(data['2008'])\n",
    "nine=  pd.DataFrame(data['2009'])\n",
    "ten=   pd.DataFrame(data['2010'])\n",
    "elvn=  pd.DataFrame(data['2011'])\n",
    "twlve= pd.DataFrame(data['2012'])\n",
    "thrtn= pd.DataFrame(data['2013'])\n",
    "frtn=  pd.DataFrame(data['2014'])\n",
    "fftn=  pd.DataFrame(data['2015'])\n",
    "sxtn=  pd.DataFrame(data['2016'])\n"
   ]
  },
  {
   "cell_type": "code",
   "execution_count": 2,
   "metadata": {
    "collapsed": false
   },
   "outputs": [],
   "source": [
    "four=  four[['jan','feb','mar','apr','may','jun','jul','aug','sep','oct','nov','dec']]\n",
    "five=  five[['jan','feb','mar','apr','may','jun','jul','aug','sep','oct','nov','dec']]\n",
    "six=   six[['jan','feb','mar','apr','may','jun','jul','aug','sep','oct','nov','dec']]\n",
    "seven= seven[['jan','feb','mar','apr','may','jun','jul','aug','sep','oct','nov','dec']]\n",
    "eight= eight[['jan','feb','mar','apr','may','jun','jul','aug','sep','oct','nov','dec']]\n",
    "nine=  nine[['jan','feb','mar','apr','may','jun','jul','aug','sep','oct','nov','dec']]\n",
    "ten=   ten[['jan','feb','mar','apr','may','jun','jul','aug','sep','oct','nov','dec']]\n",
    "elvn=  elvn[['jan','feb','mar','apr','may','jun','jul','aug','sep','oct','nov','dec']]\n",
    "twlve= twlve[['jan','feb','mar','apr','may','jun','jul','aug','sep','oct','nov','dec']]\n",
    "thrtn= thrtn[['jan','feb','mar','apr','may','jun','jul','aug','sep','oct','nov','dec']]\n",
    "frtn = frtn[['jan','feb','mar','apr','may','jun','jul','aug','sep','oct','nov','dec']]\n",
    "fftn=  fftn[['jan','feb','mar','apr','may','jun','jul','aug','sep','oct','nov','dec']]\n",
    "sxtn=  sxtn[['jan','feb','mar','apr','may','jun','jul','aug','sep','oct','nov','dec']]"
   ]
  },
  {
   "cell_type": "code",
   "execution_count": 3,
   "metadata": {
    "collapsed": false
   },
   "outputs": [
    {
     "data": {
      "text/plain": [
       "<matplotlib.axes._subplots.AxesSubplot at 0x258caea3be0>"
      ]
     },
     "execution_count": 3,
     "metadata": {},
     "output_type": "execute_result"
    },
    {
     "data": {
      "image/png": "[encoded data removed]",
      "text/plain": [
       "<matplotlib.figure.Figure at 0x258caea31d0>"
      ]
     },
     "metadata": {},
     "output_type": "display_data"
    }
   ],
   "source": [
    "frames = [four,five,six,seven,eight,nine,ten,elvn,twlve,thrtn,frtn,fftn,sxtn]\n",
    "\n",
    "result = pd.concat(frames, keys=['2004','2005','2006','2007','2008','2009','2010','2011','2012','2013','2014','2015','2016'],\n",
    "                   axis =1, join='inner')\n",
    "result = result.astype(float)\n",
    "#configure plot\n",
    "#fig=plt.figure(figsize=(80, 80), dpi= 80, facecolor='w', edgecolor='k')\n",
    "######\n",
    "#line plot\n",
    "#result.ix['suicide'].plot()\n",
    "#add second line on plot with secondary_y parameter\n",
    "#result.ix['suicide attempt'].plot(secondary_y = True)\n",
    "#######\n",
    "sum_result = [result['2004'].ix['suicide'].sum(),result['2005'].ix['suicide'].sum(),result['2006'].ix['suicide'].sum(),\n",
    "                     result['2007'].ix['suicide'].sum(),result['2008'].ix['suicide'].sum(),result['2009'].ix['suicide'].sum(),\n",
    "                     result['2010'].ix['suicide'].sum(),result['2011'].ix['suicide'].sum(),result['2012'].ix['suicide'].sum(),\n",
    "                     result['2013'].ix['suicide'].sum(),result['2014'].ix['suicide'].sum(),result['2015'].ix['suicide'].sum(),\n",
    "                     result['2016'].ix['suicide'].sum()]\n",
    "\n",
    "sum_frame = pd.DataFrame(sum_result, index = [i for i in range(2004,2017)],columns = ['suicides per year'])\n",
    "sum_frame.plot(kind = 'bar',figsize =(10,10), title = 'Springfield, MO suicide reports: 2004-2016')\n",
    "#####\n",
    "#bar plot\n",
    "#fig=plt.figure(figsize=(80, 160), dpi= 80, facecolor='w', edgecolor='k')\n",
    "####for bar plot, get the total number for each year, then graph that rather than each month"
   ]
  },
  {
   "cell_type": "code",
   "execution_count": 4,
   "metadata": {
    "collapsed": false
   },
   "outputs": [
    {
     "data": {
      "text/plain": [
       "<matplotlib.axes._subplots.AxesSubplot at 0x258cae78208>"
      ]
     },
     "execution_count": 4,
     "metadata": {},
     "output_type": "execute_result"
    },
    {
     "data": {
      "image/png": "[encoded data removed]",
      "text/plain": [
       "<matplotlib.figure.Figure at 0x258cae990f0>"
      ]
     },
     "metadata": {},
     "output_type": "display_data"
    }
   ],
   "source": [
    "result.ix['warrant - arrest'].plot()"
   ]
  },
  {
   "cell_type": "code",
   "execution_count": 7,
   "metadata": {
    "collapsed": false
   },
   "outputs": [
    {
     "data": {
      "text/html": [
       "<div>\n",
       "<table border=\"1\" class=\"dataframe\">\n",
       "  <thead>\n",
       "    <tr>\n",
       "      <th></th>\n",
       "      <th colspan=\"10\" halign=\"left\">2004</th>\n",
       "      <th>...</th>\n",
       "      <th colspan=\"10\" halign=\"left\">2016</th>\n",
       "    </tr>\n",
       "    <tr>\n",
       "      <th></th>\n",
       "      <th>jan</th>\n",
       "      <th>feb</th>\n",
       "      <th>mar</th>\n",
       "      <th>apr</th>\n",
       "      <th>may</th>\n",
       "      <th>jun</th>\n",
       "      <th>jul</th>\n",
       "      <th>aug</th>\n",
       "      <th>sep</th>\n",
       "      <th>oct</th>\n",
       "      <th>...</th>\n",
       "      <th>mar</th>\n",
       "      <th>apr</th>\n",
       "      <th>may</th>\n",
       "      <th>jun</th>\n",
       "      <th>jul</th>\n",
       "      <th>aug</th>\n",
       "      <th>sep</th>\n",
       "      <th>oct</th>\n",
       "      <th>nov</th>\n",
       "      <th>dec</th>\n",
       "    </tr>\n",
       "  </thead>\n",
       "  <tbody>\n",
       "    <tr>\n",
       "      <th>abandoned 911 call</th>\n",
       "      <td>5.0</td>\n",
       "      <td>4.0</td>\n",
       "      <td>8.0</td>\n",
       "      <td>2.0</td>\n",
       "      <td>2.0</td>\n",
       "      <td>5.0</td>\n",
       "      <td>4.0</td>\n",
       "      <td>6.0</td>\n",
       "      <td>6.0</td>\n",
       "      <td>4.0</td>\n",
       "      <td>...</td>\n",
       "      <td>0.0</td>\n",
       "      <td>0.0</td>\n",
       "      <td>1.0</td>\n",
       "      <td>0.0</td>\n",
       "      <td>0.0</td>\n",
       "      <td>0.0</td>\n",
       "      <td>0.0</td>\n",
       "      <td>0.0</td>\n",
       "      <td>0.0</td>\n",
       "      <td>0.0</td>\n",
       "    </tr>\n",
       "    <tr>\n",
       "      <th>abandoned vehicle</th>\n",
       "      <td>81.0</td>\n",
       "      <td>63.0</td>\n",
       "      <td>97.0</td>\n",
       "      <td>82.0</td>\n",
       "      <td>107.0</td>\n",
       "      <td>83.0</td>\n",
       "      <td>113.0</td>\n",
       "      <td>97.0</td>\n",
       "      <td>84.0</td>\n",
       "      <td>81.0</td>\n",
       "      <td>...</td>\n",
       "      <td>159.0</td>\n",
       "      <td>147.0</td>\n",
       "      <td>121.0</td>\n",
       "      <td>66.0</td>\n",
       "      <td>83.0</td>\n",
       "      <td>85.0</td>\n",
       "      <td>100.0</td>\n",
       "      <td>122.0</td>\n",
       "      <td>86.0</td>\n",
       "      <td>93.0</td>\n",
       "    </tr>\n",
       "    <tr>\n",
       "      <th>abduction</th>\n",
       "      <td>4.0</td>\n",
       "      <td>2.0</td>\n",
       "      <td>4.0</td>\n",
       "      <td>1.0</td>\n",
       "      <td>2.0</td>\n",
       "      <td>5.0</td>\n",
       "      <td>3.0</td>\n",
       "      <td>3.0</td>\n",
       "      <td>1.0</td>\n",
       "      <td>2.0</td>\n",
       "      <td>...</td>\n",
       "      <td>0.0</td>\n",
       "      <td>0.0</td>\n",
       "      <td>0.0</td>\n",
       "      <td>0.0</td>\n",
       "      <td>0.0</td>\n",
       "      <td>0.0</td>\n",
       "      <td>0.0</td>\n",
       "      <td>0.0</td>\n",
       "      <td>0.0</td>\n",
       "      <td>0.0</td>\n",
       "    </tr>\n",
       "    <tr>\n",
       "      <th>abduction - non-parent</th>\n",
       "      <td>1.0</td>\n",
       "      <td>0.0</td>\n",
       "      <td>0.0</td>\n",
       "      <td>0.0</td>\n",
       "      <td>0.0</td>\n",
       "      <td>0.0</td>\n",
       "      <td>0.0</td>\n",
       "      <td>0.0</td>\n",
       "      <td>0.0</td>\n",
       "      <td>0.0</td>\n",
       "      <td>...</td>\n",
       "      <td>1.0</td>\n",
       "      <td>0.0</td>\n",
       "      <td>0.0</td>\n",
       "      <td>2.0</td>\n",
       "      <td>4.0</td>\n",
       "      <td>1.0</td>\n",
       "      <td>0.0</td>\n",
       "      <td>0.0</td>\n",
       "      <td>2.0</td>\n",
       "      <td>1.0</td>\n",
       "    </tr>\n",
       "    <tr>\n",
       "      <th>abduction - parent</th>\n",
       "      <td>1.0</td>\n",
       "      <td>2.0</td>\n",
       "      <td>1.0</td>\n",
       "      <td>1.0</td>\n",
       "      <td>1.0</td>\n",
       "      <td>3.0</td>\n",
       "      <td>0.0</td>\n",
       "      <td>3.0</td>\n",
       "      <td>1.0</td>\n",
       "      <td>2.0</td>\n",
       "      <td>...</td>\n",
       "      <td>1.0</td>\n",
       "      <td>2.0</td>\n",
       "      <td>1.0</td>\n",
       "      <td>2.0</td>\n",
       "      <td>1.0</td>\n",
       "      <td>0.0</td>\n",
       "      <td>0.0</td>\n",
       "      <td>1.0</td>\n",
       "      <td>0.0</td>\n",
       "      <td>0.0</td>\n",
       "    </tr>\n",
       "  </tbody>\n",
       "</table>\n",
       "<p>5 rows × 156 columns</p>\n",
       "</div>"
      ],
      "text/plain": [
       "                        2004                                              \\\n",
       "                         jan   feb   mar   apr    may   jun    jul   aug   \n",
       "abandoned 911 call       5.0   4.0   8.0   2.0    2.0   5.0    4.0   6.0   \n",
       "abandoned vehicle       81.0  63.0  97.0  82.0  107.0  83.0  113.0  97.0   \n",
       "abduction                4.0   2.0   4.0   1.0    2.0   5.0    3.0   3.0   \n",
       "abduction - non-parent   1.0   0.0   0.0   0.0    0.0   0.0    0.0   0.0   \n",
       "abduction - parent       1.0   2.0   1.0   1.0    1.0   3.0    0.0   3.0   \n",
       "\n",
       "                                    ...    2016                            \\\n",
       "                         sep   oct  ...     mar    apr    may   jun   jul   \n",
       "abandoned 911 call       6.0   4.0  ...     0.0    0.0    1.0   0.0   0.0   \n",
       "abandoned vehicle       84.0  81.0  ...   159.0  147.0  121.0  66.0  83.0   \n",
       "abduction                1.0   2.0  ...     0.0    0.0    0.0   0.0   0.0   \n",
       "abduction - non-parent   0.0   0.0  ...     1.0    0.0    0.0   2.0   4.0   \n",
       "abduction - parent       1.0   2.0  ...     1.0    2.0    1.0   2.0   1.0   \n",
       "\n",
       "                                                        \n",
       "                         aug    sep    oct   nov   dec  \n",
       "abandoned 911 call       0.0    0.0    0.0   0.0   0.0  \n",
       "abandoned vehicle       85.0  100.0  122.0  86.0  93.0  \n",
       "abduction                0.0    0.0    0.0   0.0   0.0  \n",
       "abduction - non-parent   1.0    0.0    0.0   2.0   1.0  \n",
       "abduction - parent       0.0    0.0    1.0   0.0   0.0  \n",
       "\n",
       "[5 rows x 156 columns]"
      ]
     },
     "execution_count": 7,
     "metadata": {},
     "output_type": "execute_result"
    }
   ],
   "source": [
    "result.head()"
   ]
  }
 ],
 "metadata": {
  "kernelspec": {
   "display_name": "Python 3",
   "language": "python",
   "name": "python3"
  },
  "language_info": {
   "codemirror_mode": {
    "name": "ipython",
    "version": 3
   },
   "file_extension": ".py",
   "mimetype": "text/x-python",
   "name": "python",
   "nbconvert_exporter": "python",
   "pygments_lexer": "ipython3",
   "version": "3.6.0"
  }
 },
 "nbformat": 4,
 "nbformat_minor": 2
}
