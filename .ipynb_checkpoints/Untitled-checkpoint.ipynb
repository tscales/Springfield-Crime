{
 "cells": [
  {
   "cell_type": "code",
   "execution_count": 2,
   "metadata": {
    "collapsed": false
   },
   "outputs": [],
   "source": [
    "% matplotlib inline\n",
    "import pandas as pd\n",
    "import requests\n",
    "import time\n",
    "from bs4 import BeautifulSoup\n",
    "\n",
    "\n",
    "def scrape_data():\n",
    "    '''initial method used to retreive data\n",
    "    afterwards data is saved and loaded from a pickle file'''\n",
    "    url = 'http://www.springfieldcrimealert.com/crime_stats_'\n",
    "    frames =[]\n",
    "\n",
    "    for year in range(2004,2017):\n",
    "        page = url + str(year) + '.php'\n",
    "        df = pd.read_html(page,header= 0, index_col= 0)\n",
    "        df[0].index.name = None\n",
    "        frames.append(df[0])\n",
    "        time.sleep(2)\n",
    "    return pd.concat(frames, axis = 1, keys= [year for year in range(2004,2017)])\n",
    "\n",
    "def save_toPickle(df):\n",
    "    df.to_pickle('data/dataFrame.pkl')\n",
    "\n",
    "def load_dataFrame():\n",
    "    '''Load Pandas Dataframe'''\n",
    "    return pd.read_pickle('data/Dataframe.pkl')\n",
    "\n",
    "result = load_dataFrame()"
   ]
  },
  {
   "cell_type": "code",
   "execution_count": 18,
   "metadata": {
    "collapsed": false
   },
   "outputs": [
    {
     "data": {
      "text/plain": [
       "11955"
      ]
     },
     "execution_count": 18,
     "metadata": {},
     "output_type": "execute_result"
    }
   ],
   "source": [
    "def getIncidentTotals(incident,result = result, byear = 2004, eyear = 2016):\n",
    "    '''returns the sum of incident reports for an incident type in the specified date range'''\n",
    "    #    return result.ix[incident][B_position:E_position].sum()\n",
    "    return sum([result[year].ix[incident].sum() for year in range(byear, eyear + 1)])\n",
    "\n",
    "getIncidentTotals('Abandoned Vehicle')\n",
    "\n"
   ]
  },
  {
   "cell_type": "code",
   "execution_count": 27,
   "metadata": {
    "collapsed": false
   },
   "outputs": [
    {
     "data": {
      "text/plain": [
       "<matplotlib.axes._subplots.AxesSubplot at 0x1509a9234e0>"
      ]
     },
     "execution_count": 27,
     "metadata": {},
     "output_type": "execute_result"
    },
    {
     "data": {
      "image/png": "[encoded data removed]",
      "text/plain": [
       "<matplotlib.figure.Figure at 0x1509a908d68>"
      ]
     },
     "metadata": {},
     "output_type": "display_data"
    }
   ],
   "source": [
    "def plot_by_year(name, result = result):\n",
    "    r = pd.Series((result[i].ix[name].sum() for i in range(2004,2017)), index =[[i for i in range(2004,2017)]])\n",
    "    return r.plot.bar(use_index = True)\n",
    "plot_by_year(\"Abandoned Vehicle\")"
   ]
  },
  {
   "cell_type": "code",
   "execution_count": 28,
   "metadata": {
    "collapsed": false
   },
   "outputs": [
    {
     "name": "stdout",
     "output_type": "stream",
     "text": [
      "Abandoned 911 Call 212\n",
      "Abandoned Vehicle 11955\n",
      "Abduction 177\n",
      "Abduction - Non-Parent 64\n",
      "Abduction - Parent 203\n",
      "Accident - Non-Vehicle 138\n",
      "Administrative Duties 6\n",
      "Alarm - Law Only 51686\n",
      "Animal Call 433\n",
      "Animal Call - Past 25\n",
      "Assault 14268\n",
      "Assault - Past 8594\n",
      "Assist An Agency 2209\n",
      "Assist Person 1230\n",
      "Auto Theft 6924\n",
      "Auto Theft - Past 5651\n",
      "Bomb Device Law 22\n",
      "Break 8\n",
      "Burglary - Commercial 1299\n",
      "Burglary - Commercial - Past 4577\n",
      "Burglary - Residential 3832\n",
      "Burglary - Residential - Past 16682\n",
      "Check Building 673\n",
      "Check Person 11080\n",
      "Check Person - Weapon 1059\n",
      "Check Vehicle 1751\n",
      "Check Well-Being 10526\n",
      "Check Well-Being - Comb 9\n",
      "Child Abuse 6610\n",
      "Citizen Contact Info 2\n",
      "Civil 612\n",
      "Combined Ems Call 11\n",
      "Combined Industrial 1\n",
      "Community Event 12\n",
      "Court Appearance 1\n",
      "Deceased Person 2731\n",
      "Disturbance - Domestic 33978\n",
      "Disturbance - Domestic - Past 9222\n",
      "Disturbance - General 11019\n",
      "Disturbance - General - Past 1678\n",
      "Driving Intoxicated 12504\n",
      "Drugs 23399\n",
      "Drugs - Past 265\n",
      "Drunk Person 73\n",
      "Elder Abuse 115\n",
      "Emergency Message Relay 2\n",
      "Fail To Return Borrowed Vehicle 1254\n",
      "Fail To Return Leased Property 726\n",
      "Fireworks 89\n",
      "Follow Up 22\n",
      "Foot Pursuit 145\n",
      "Forgery 3010\n",
      "Forgery - Past 834\n",
      "Found Property 11226\n",
      "Graffitti Call 1709\n",
      "Harrassment 8696\n",
      "Harrassment - Past 3837\n",
      "Identity Theft 2412\n",
      "In-Service At Hq 2\n",
      "In-Service At Sds 1\n",
      "Indecent Exposure 987\n",
      "Indecent Exposure - Past 139\n",
      "Info Broadcast 12\n",
      "Juvenile Situation 503\n",
      "Juvenile Situation - Past 20\n",
      "Left Without Paying 7446\n",
      "Liquor Law Violation 5181\n",
      "Liquor Law Violation - Past 56\n",
      "Lost Property 4003\n",
      "Loud Party 446\n",
      "Loud Party - Past 2\n",
      "Miscellaneous - Other 27091\n",
      "Missing Person - Adult 2900\n",
      "Missing Person - Juvenile 4537\n",
      "Noise Disturbance 2015\n",
      "Noise Disturbance - Past 31\n",
      "Nuisance 10\n",
      "Officer Initiated Incident 0\n",
      "Order Protection Violation 2207\n",
      "Order Protection Violation - Past 3661\n",
      "Prisoner Transport 2501\n",
      "Prostitution 168\n",
      "Prostitution - Past 6\n",
      "Prowler 155\n",
      "Prowler - Past 31\n",
      "Pursuit - Traffic 122\n",
      "Recovered Vehicle 1517\n",
      "Repossessed Vehicle 6304\n",
      "Robbery 2573\n",
      "Robbery - Attempted 115\n",
      "Robbery - Past 891\n",
      "Rx Forgery 174\n",
      "Rx Forgery - Past 159\n",
      "Sex Offender Check 3\n",
      "Sex Offense - Not Rape 941\n",
      "Sex Offense - Not Rape - Past 1568\n",
      "Shoplifting 17188\n",
      "Shots Heard 490\n",
      "Special Assignment 17\n",
      "Stalking 415\n",
      "Stalled Vehicle 334\n",
      "Stealing 24265\n",
      "Stealing - Past 55966\n",
      "Stealing From A Vehicle 14184\n",
      "Stealing From A Vehicle - Past 20845\n",
      "Suicide 279\n",
      "Suicide Attempt 685\n",
      "Suicide Attempt - Comb 9\n",
      "Terrorist Threat 4\n",
      "Terrorist Threat - Past 4\n",
      "Traffic Control 27\n",
      "Traffic Enforcement 2\n",
      "Traffic Violation - Moving 660\n",
      "Traffic Violation - Non-Moving 794\n",
      "Train Emergency 4\n",
      "Trespassing 4229\n",
      "Trespassing - Past 864\n",
      "Vandalism 11637\n",
      "Vandalism - Past 15967\n",
      "Vehicle Accident - Fatal 59\n",
      "Vehicle Accident - Injury 16820\n",
      "Vehicle Accident - Injury - Comb 27\n",
      "Vehicle Accident - Left The Scene 15981\n",
      "Vehicle Accident - Non-Injury 64389\n",
      "Vehicle Accident - Past 15657\n",
      "Vehicle Maintenance 2\n",
      "Warrant - Arrest 49767\n",
      "Warrant - Search 1490\n"
     ]
    }
   ],
   "source": [
    "def getTotalReports(result = result):\n",
    "    return list(result.index)\n",
    "def getSums\n",
    "for i in list(result.index):\n",
    "    print(i, result.ix[i].sum())"
   ]
  },
  {
   "cell_type": "code",
   "execution_count": 82,
   "metadata": {
    "collapsed": false
   },
   "outputs": [
    {
     "ename": "AttributeError",
     "evalue": "'list' object has no attribute 'sum'",
     "output_type": "error",
     "traceback": [
      "\u001b[0;31m---------------------------------------------------------------------------\u001b[0m",
      "\u001b[0;31mAttributeError\u001b[0m                            Traceback (most recent call last)",
      "\u001b[0;32m<ipython-input-82-915ec4b68c5e>\u001b[0m in \u001b[0;36m<module>\u001b[0;34m()\u001b[0m\n\u001b[1;32m      1\u001b[0m \u001b[1;31m#this could be good... it says 'take all of the month columns and sum them based on the incident type.\u001b[0m\u001b[1;33m\u001b[0m\u001b[1;33m\u001b[0m\u001b[0m\n\u001b[1;32m      2\u001b[0m \u001b[1;31m# so 21 abandoned 911 calls have been reported in the 12 january's between 2004 and 2016\u001b[0m\u001b[1;33m\u001b[0m\u001b[1;33m\u001b[0m\u001b[0m\n\u001b[0;32m----> 3\u001b[0;31m \u001b[0msum_by_month\u001b[0m\u001b[1;33m=\u001b[0m \u001b[0mdf\u001b[0m\u001b[1;33m.\u001b[0m\u001b[0msum\u001b[0m\u001b[1;33m(\u001b[0m\u001b[0mlevel\u001b[0m \u001b[1;33m=\u001b[0m \u001b[1;36m1\u001b[0m\u001b[1;33m)\u001b[0m\u001b[1;33m\u001b[0m\u001b[0m\n\u001b[0m",
      "\u001b[0;31mAttributeError\u001b[0m: 'list' object has no attribute 'sum'"
     ]
    }
   ],
   "source": [
    "#this could be good... it says 'take all of the month columns and sum them based on the incident type.\n",
    "# so 21 abandoned 911 calls have been reported in the 12 january's between 2004 and 2016\n",
    "sum_by_month= df.sum(level = 1)\n",
    "# but this is broken until you have a multi index"
   ]
  },
  {
   "cell_type": "code",
   "execution_count": 116,
   "metadata": {
    "collapsed": false
   },
   "outputs": [
    {
     "data": {
      "text/plain": [
       "abandoned 911 call                     21.0\n",
       "abandoned vehicle                    1016.0\n",
       "abduction                              11.0\n",
       "abduction - non-parent                  2.0\n",
       "abduction - parent                     15.0\n",
       "accident - non-vehicle                  6.0\n",
       "administrative duties                   0.0\n",
       "alarm - law only                     4517.0\n",
       "animal call                            31.0\n",
       "animal call - past                      1.0\n",
       "assault                               981.0\n",
       "assault - past                        675.0\n",
       "assist an agency                      178.0\n",
       "assist person                         103.0\n",
       "auto theft                            538.0\n",
       "auto theft - past                     407.0\n",
       "bomb device law                         2.0\n",
       "break                                   1.0\n",
       "burglary - commercial                 107.0\n",
       "burglary - commercial - past          357.0\n",
       "burglary - residential                296.0\n",
       "burglary - residential - past        1368.0\n",
       "check building                         42.0\n",
       "check person                          931.0\n",
       "check person - weapon                  92.0\n",
       "check vehicle                         150.0\n",
       "check well-being                      854.0\n",
       "check well-being - comb                 8.0\n",
       "child abuse                           561.0\n",
       "citizen contact info                    0.0\n",
       "                                      ...  \n",
       "special assignment                      0.0\n",
       "stalking                               31.0\n",
       "stalled vehicle                        39.0\n",
       "stealing                             1882.0\n",
       "stealing - past                      4455.0\n",
       "stealing from a vehicle              1114.0\n",
       "stealing from a vehicle - past       1449.0\n",
       "suicide                                24.0\n",
       "suicide attempt                        47.0\n",
       "suicide attempt - comb                  9.0\n",
       "terrorist threat                        0.0\n",
       "terrorist threat - past                 0.0\n",
       "traffic control                         3.0\n",
       "traffic enforcement                     0.0\n",
       "traffic violation - moving             63.0\n",
       "traffic violation - non-moving         60.0\n",
       "train emergency                         1.0\n",
       "trespassing                           280.0\n",
       "trespassing - past                     63.0\n",
       "vandalism                             836.0\n",
       "vandalism - past                     1329.0\n",
       "vehicle accident - fatal                2.0\n",
       "vehicle accident - injury            1173.0\n",
       "vehicle accident - injury - comb       24.0\n",
       "vehicle accident - left the scene    1343.0\n",
       "vehicle accident - non-injury        5310.0\n",
       "vehicle accident - past              1307.0\n",
       "vehicle maintenance                     0.0\n",
       "warrant - arrest                     4410.0\n",
       "warrant - search                      179.0\n",
       "Name: jan, dtype: float64"
      ]
     },
     "execution_count": 116,
     "metadata": {},
     "output_type": "execute_result"
    }
   ],
   "source": [
    "def most_by_month():\n",
    "    pass\n",
    "sum_by_month.ix['jan']"
   ]
  },
  {
   "cell_type": "code",
   "execution_count": 29,
   "metadata": {
    "collapsed": false
   },
   "outputs": [
    {
     "data": {
      "text/plain": [
       "[('stealing - past', 7033.0),\n",
       " ('stealing - past', 7909.0),\n",
       " ('vehicle accident - non-injury', 6084.0),\n",
       " ('vehicle accident - non-injury', 6151.0),\n",
       " ('vehicle accident - non-injury', 5483.0),\n",
       " ('vehicle accident - non-injury', 5363.0),\n",
       " ('vehicle accident - non-injury', 5167.0),\n",
       " ('vehicle accident - non-injury', 5179.0),\n",
       " ('vehicle accident - non-injury', 5220.0),\n",
       " ('vehicle accident - non-injury', 5076.0),\n",
       " ('alarm - law only', 4321.0),\n",
       " ('alarm - law only', 4040.0),\n",
       " ('alarm - law only', 3635.0)]"
      ]
     },
     "execution_count": 29,
     "metadata": {},
     "output_type": "execute_result"
    }
   ],
   "source": [
    "#df.ix[2004]['vehicle accident - injury'].plot()\n",
    "#df.plot.hist(figsize = (30,50),orientation = 'horizontal')\n",
    "\n",
    "def most_commits(dataf):\n",
    "    most = 0.0\n",
    "    for i in dataf:\n",
    "        if dataf[i].sum() > most:\n",
    "            most = dataf[i].sum()\n",
    "            result = (i, dataf[i].sum())\n",
    "    return result\n",
    "\n",
    "def most_reports_by_year(dataf):\n",
    "    final = []\n",
    "    for year in range(2004,2017):\n",
    "        most = 0.0\n",
    "        result = None\n",
    "        for i in dataf:\n",
    "            if dataf.ix[year][i].sum() > most:\n",
    "                most = dataf.ix[year][i].sum()\n",
    "                result = (i,dataf.ix[year][i].sum())\n",
    "        final.append(result)\n",
    "    return final\n",
    "            \n",
    "result = most_commits(df)\n",
    "by_year = most_reports_by_year(df)\n",
    "\n",
    "by_year\n",
    "#my_result = [df.ix[year]['vehicle accident - non-injury'].sum() for year in range(2004,2017)]\n",
    "#print(sum(my_result))\n",
    "#print(result)\n",
    "#print(df.ix[2004]['vehicle accident - non-injury'].sum())\n",
    "\n",
    "#df['vehicle accident - left the scene'].plot(subplots =True, figsize = (5,4))\n",
    "\n",
    "\n",
    "#max([df[i].sum() for i in df])"
   ]
  },
  {
   "cell_type": "code",
   "execution_count": null,
   "metadata": {
    "collapsed": true
   },
   "outputs": [],
   "source": []
  },
  {
   "cell_type": "code",
   "execution_count": 69,
   "metadata": {
    "collapsed": false
   },
   "outputs": [
    {
     "ename": "KeyError",
     "evalue": "127",
     "output_type": "error",
     "traceback": [
      "\u001b[0;31m---------------------------------------------------------------------------\u001b[0m",
      "\u001b[0;31mKeyError\u001b[0m                                  Traceback (most recent call last)",
      "\u001b[0;32mC:\\Users\\Tyler\\Anaconda3\\lib\\site-packages\\pandas\\indexes\\base.py\u001b[0m in \u001b[0;36mget_loc\u001b[0;34m(self, key, method, tolerance)\u001b[0m\n\u001b[1;32m   2133\u001b[0m             \u001b[1;32mtry\u001b[0m\u001b[1;33m:\u001b[0m\u001b[1;33m\u001b[0m\u001b[0m\n\u001b[0;32m-> 2134\u001b[0;31m                 \u001b[1;32mreturn\u001b[0m \u001b[0mself\u001b[0m\u001b[1;33m.\u001b[0m\u001b[0m_engine\u001b[0m\u001b[1;33m.\u001b[0m\u001b[0mget_loc\u001b[0m\u001b[1;33m(\u001b[0m\u001b[0mkey\u001b[0m\u001b[1;33m)\u001b[0m\u001b[1;33m\u001b[0m\u001b[0m\n\u001b[0m\u001b[1;32m   2135\u001b[0m             \u001b[1;32mexcept\u001b[0m \u001b[0mKeyError\u001b[0m\u001b[1;33m:\u001b[0m\u001b[1;33m\u001b[0m\u001b[0m\n",
      "\u001b[0;32mpandas\\index.pyx\u001b[0m in \u001b[0;36mpandas.index.IndexEngine.get_loc (pandas\\index.c:4433)\u001b[0;34m()\u001b[0m\n",
      "\u001b[0;32mpandas\\index.pyx\u001b[0m in \u001b[0;36mpandas.index.IndexEngine.get_loc (pandas\\index.c:4279)\u001b[0;34m()\u001b[0m\n",
      "\u001b[0;32mpandas\\src\\hashtable_class_helper.pxi\u001b[0m in \u001b[0;36mpandas.hashtable.PyObjectHashTable.get_item (pandas\\hashtable.c:13742)\u001b[0;34m()\u001b[0m\n",
      "\u001b[0;32mpandas\\src\\hashtable_class_helper.pxi\u001b[0m in \u001b[0;36mpandas.hashtable.PyObjectHashTable.get_item (pandas\\hashtable.c:13696)\u001b[0;34m()\u001b[0m\n",
      "\u001b[0;31mKeyError\u001b[0m: 127",
      "\nDuring handling of the above exception, another exception occurred:\n",
      "\u001b[0;31mKeyError\u001b[0m                                  Traceback (most recent call last)",
      "\u001b[0;32m<ipython-input-69-60236669e782>\u001b[0m in \u001b[0;36m<module>\u001b[0;34m()\u001b[0m\n\u001b[1;32m      3\u001b[0m     \u001b[1;31m#return data.ix[begin_year:end_year,[report_type]]\u001b[0m\u001b[1;33m\u001b[0m\u001b[1;33m\u001b[0m\u001b[0m\n\u001b[1;32m      4\u001b[0m \u001b[1;33m\u001b[0m\u001b[0m\n\u001b[0;32m----> 5\u001b[0;31m \u001b[0mtest\u001b[0m \u001b[1;33m=\u001b[0m \u001b[0msorted\u001b[0m\u001b[1;33m(\u001b[0m\u001b[1;33m(\u001b[0m\u001b[0mcount\u001b[0m\u001b[1;33m,\u001b[0m \u001b[0mname\u001b[0m\u001b[1;33m)\u001b[0m \u001b[1;32mfor\u001b[0m \u001b[0mcount\u001b[0m \u001b[1;32min\u001b[0m \u001b[0menumerate\u001b[0m\u001b[1;33m(\u001b[0m\u001b[0mdf\u001b[0m\u001b[1;33m[\u001b[0m\u001b[0mi\u001b[0m\u001b[1;33m]\u001b[0m\u001b[1;33m.\u001b[0m\u001b[0msum\u001b[0m\u001b[1;33m)\u001b[0m\u001b[1;33m)\u001b[0m\u001b[1;33m\u001b[0m\u001b[0m\n\u001b[0m",
      "\u001b[0;32mC:\\Users\\Tyler\\Anaconda3\\lib\\site-packages\\pandas\\core\\frame.py\u001b[0m in \u001b[0;36m__getitem__\u001b[0;34m(self, key)\u001b[0m\n\u001b[1;32m   2057\u001b[0m             \u001b[1;32mreturn\u001b[0m \u001b[0mself\u001b[0m\u001b[1;33m.\u001b[0m\u001b[0m_getitem_multilevel\u001b[0m\u001b[1;33m(\u001b[0m\u001b[0mkey\u001b[0m\u001b[1;33m)\u001b[0m\u001b[1;33m\u001b[0m\u001b[0m\n\u001b[1;32m   2058\u001b[0m         \u001b[1;32melse\u001b[0m\u001b[1;33m:\u001b[0m\u001b[1;33m\u001b[0m\u001b[0m\n\u001b[0;32m-> 2059\u001b[0;31m             \u001b[1;32mreturn\u001b[0m \u001b[0mself\u001b[0m\u001b[1;33m.\u001b[0m\u001b[0m_getitem_column\u001b[0m\u001b[1;33m(\u001b[0m\u001b[0mkey\u001b[0m\u001b[1;33m)\u001b[0m\u001b[1;33m\u001b[0m\u001b[0m\n\u001b[0m\u001b[1;32m   2060\u001b[0m \u001b[1;33m\u001b[0m\u001b[0m\n\u001b[1;32m   2061\u001b[0m     \u001b[1;32mdef\u001b[0m \u001b[0m_getitem_column\u001b[0m\u001b[1;33m(\u001b[0m\u001b[0mself\u001b[0m\u001b[1;33m,\u001b[0m \u001b[0mkey\u001b[0m\u001b[1;33m)\u001b[0m\u001b[1;33m:\u001b[0m\u001b[1;33m\u001b[0m\u001b[0m\n",
      "\u001b[0;32mC:\\Users\\Tyler\\Anaconda3\\lib\\site-packages\\pandas\\core\\frame.py\u001b[0m in \u001b[0;36m_getitem_column\u001b[0;34m(self, key)\u001b[0m\n\u001b[1;32m   2064\u001b[0m         \u001b[1;31m# get column\u001b[0m\u001b[1;33m\u001b[0m\u001b[1;33m\u001b[0m\u001b[0m\n\u001b[1;32m   2065\u001b[0m         \u001b[1;32mif\u001b[0m \u001b[0mself\u001b[0m\u001b[1;33m.\u001b[0m\u001b[0mcolumns\u001b[0m\u001b[1;33m.\u001b[0m\u001b[0mis_unique\u001b[0m\u001b[1;33m:\u001b[0m\u001b[1;33m\u001b[0m\u001b[0m\n\u001b[0;32m-> 2066\u001b[0;31m             \u001b[1;32mreturn\u001b[0m \u001b[0mself\u001b[0m\u001b[1;33m.\u001b[0m\u001b[0m_get_item_cache\u001b[0m\u001b[1;33m(\u001b[0m\u001b[0mkey\u001b[0m\u001b[1;33m)\u001b[0m\u001b[1;33m\u001b[0m\u001b[0m\n\u001b[0m\u001b[1;32m   2067\u001b[0m \u001b[1;33m\u001b[0m\u001b[0m\n\u001b[1;32m   2068\u001b[0m         \u001b[1;31m# duplicate columns & possible reduce dimensionality\u001b[0m\u001b[1;33m\u001b[0m\u001b[1;33m\u001b[0m\u001b[0m\n",
      "\u001b[0;32mC:\\Users\\Tyler\\Anaconda3\\lib\\site-packages\\pandas\\core\\generic.py\u001b[0m in \u001b[0;36m_get_item_cache\u001b[0;34m(self, item)\u001b[0m\n\u001b[1;32m   1384\u001b[0m         \u001b[0mres\u001b[0m \u001b[1;33m=\u001b[0m \u001b[0mcache\u001b[0m\u001b[1;33m.\u001b[0m\u001b[0mget\u001b[0m\u001b[1;33m(\u001b[0m\u001b[0mitem\u001b[0m\u001b[1;33m)\u001b[0m\u001b[1;33m\u001b[0m\u001b[0m\n\u001b[1;32m   1385\u001b[0m         \u001b[1;32mif\u001b[0m \u001b[0mres\u001b[0m \u001b[1;32mis\u001b[0m \u001b[1;32mNone\u001b[0m\u001b[1;33m:\u001b[0m\u001b[1;33m\u001b[0m\u001b[0m\n\u001b[0;32m-> 1386\u001b[0;31m             \u001b[0mvalues\u001b[0m \u001b[1;33m=\u001b[0m \u001b[0mself\u001b[0m\u001b[1;33m.\u001b[0m\u001b[0m_data\u001b[0m\u001b[1;33m.\u001b[0m\u001b[0mget\u001b[0m\u001b[1;33m(\u001b[0m\u001b[0mitem\u001b[0m\u001b[1;33m)\u001b[0m\u001b[1;33m\u001b[0m\u001b[0m\n\u001b[0m\u001b[1;32m   1387\u001b[0m             \u001b[0mres\u001b[0m \u001b[1;33m=\u001b[0m \u001b[0mself\u001b[0m\u001b[1;33m.\u001b[0m\u001b[0m_box_item_values\u001b[0m\u001b[1;33m(\u001b[0m\u001b[0mitem\u001b[0m\u001b[1;33m,\u001b[0m \u001b[0mvalues\u001b[0m\u001b[1;33m)\u001b[0m\u001b[1;33m\u001b[0m\u001b[0m\n\u001b[1;32m   1388\u001b[0m             \u001b[0mcache\u001b[0m\u001b[1;33m[\u001b[0m\u001b[0mitem\u001b[0m\u001b[1;33m]\u001b[0m \u001b[1;33m=\u001b[0m \u001b[0mres\u001b[0m\u001b[1;33m\u001b[0m\u001b[0m\n",
      "\u001b[0;32mC:\\Users\\Tyler\\Anaconda3\\lib\\site-packages\\pandas\\core\\internals.py\u001b[0m in \u001b[0;36mget\u001b[0;34m(self, item, fastpath)\u001b[0m\n\u001b[1;32m   3541\u001b[0m \u001b[1;33m\u001b[0m\u001b[0m\n\u001b[1;32m   3542\u001b[0m             \u001b[1;32mif\u001b[0m \u001b[1;32mnot\u001b[0m \u001b[0misnull\u001b[0m\u001b[1;33m(\u001b[0m\u001b[0mitem\u001b[0m\u001b[1;33m)\u001b[0m\u001b[1;33m:\u001b[0m\u001b[1;33m\u001b[0m\u001b[0m\n\u001b[0;32m-> 3543\u001b[0;31m                 \u001b[0mloc\u001b[0m \u001b[1;33m=\u001b[0m \u001b[0mself\u001b[0m\u001b[1;33m.\u001b[0m\u001b[0mitems\u001b[0m\u001b[1;33m.\u001b[0m\u001b[0mget_loc\u001b[0m\u001b[1;33m(\u001b[0m\u001b[0mitem\u001b[0m\u001b[1;33m)\u001b[0m\u001b[1;33m\u001b[0m\u001b[0m\n\u001b[0m\u001b[1;32m   3544\u001b[0m             \u001b[1;32melse\u001b[0m\u001b[1;33m:\u001b[0m\u001b[1;33m\u001b[0m\u001b[0m\n\u001b[1;32m   3545\u001b[0m                 \u001b[0mindexer\u001b[0m \u001b[1;33m=\u001b[0m \u001b[0mnp\u001b[0m\u001b[1;33m.\u001b[0m\u001b[0marange\u001b[0m\u001b[1;33m(\u001b[0m\u001b[0mlen\u001b[0m\u001b[1;33m(\u001b[0m\u001b[0mself\u001b[0m\u001b[1;33m.\u001b[0m\u001b[0mitems\u001b[0m\u001b[1;33m)\u001b[0m\u001b[1;33m)\u001b[0m\u001b[1;33m[\u001b[0m\u001b[0misnull\u001b[0m\u001b[1;33m(\u001b[0m\u001b[0mself\u001b[0m\u001b[1;33m.\u001b[0m\u001b[0mitems\u001b[0m\u001b[1;33m)\u001b[0m\u001b[1;33m]\u001b[0m\u001b[1;33m\u001b[0m\u001b[0m\n",
      "\u001b[0;32mC:\\Users\\Tyler\\Anaconda3\\lib\\site-packages\\pandas\\indexes\\base.py\u001b[0m in \u001b[0;36mget_loc\u001b[0;34m(self, key, method, tolerance)\u001b[0m\n\u001b[1;32m   2134\u001b[0m                 \u001b[1;32mreturn\u001b[0m \u001b[0mself\u001b[0m\u001b[1;33m.\u001b[0m\u001b[0m_engine\u001b[0m\u001b[1;33m.\u001b[0m\u001b[0mget_loc\u001b[0m\u001b[1;33m(\u001b[0m\u001b[0mkey\u001b[0m\u001b[1;33m)\u001b[0m\u001b[1;33m\u001b[0m\u001b[0m\n\u001b[1;32m   2135\u001b[0m             \u001b[1;32mexcept\u001b[0m \u001b[0mKeyError\u001b[0m\u001b[1;33m:\u001b[0m\u001b[1;33m\u001b[0m\u001b[0m\n\u001b[0;32m-> 2136\u001b[0;31m                 \u001b[1;32mreturn\u001b[0m \u001b[0mself\u001b[0m\u001b[1;33m.\u001b[0m\u001b[0m_engine\u001b[0m\u001b[1;33m.\u001b[0m\u001b[0mget_loc\u001b[0m\u001b[1;33m(\u001b[0m\u001b[0mself\u001b[0m\u001b[1;33m.\u001b[0m\u001b[0m_maybe_cast_indexer\u001b[0m\u001b[1;33m(\u001b[0m\u001b[0mkey\u001b[0m\u001b[1;33m)\u001b[0m\u001b[1;33m)\u001b[0m\u001b[1;33m\u001b[0m\u001b[0m\n\u001b[0m\u001b[1;32m   2137\u001b[0m \u001b[1;33m\u001b[0m\u001b[0m\n\u001b[1;32m   2138\u001b[0m         \u001b[0mindexer\u001b[0m \u001b[1;33m=\u001b[0m \u001b[0mself\u001b[0m\u001b[1;33m.\u001b[0m\u001b[0mget_indexer\u001b[0m\u001b[1;33m(\u001b[0m\u001b[1;33m[\u001b[0m\u001b[0mkey\u001b[0m\u001b[1;33m]\u001b[0m\u001b[1;33m,\u001b[0m \u001b[0mmethod\u001b[0m\u001b[1;33m=\u001b[0m\u001b[0mmethod\u001b[0m\u001b[1;33m,\u001b[0m \u001b[0mtolerance\u001b[0m\u001b[1;33m=\u001b[0m\u001b[0mtolerance\u001b[0m\u001b[1;33m)\u001b[0m\u001b[1;33m\u001b[0m\u001b[0m\n",
      "\u001b[0;32mpandas\\index.pyx\u001b[0m in \u001b[0;36mpandas.index.IndexEngine.get_loc (pandas\\index.c:4433)\u001b[0;34m()\u001b[0m\n",
      "\u001b[0;32mpandas\\index.pyx\u001b[0m in \u001b[0;36mpandas.index.IndexEngine.get_loc (pandas\\index.c:4279)\u001b[0;34m()\u001b[0m\n",
      "\u001b[0;32mpandas\\src\\hashtable_class_helper.pxi\u001b[0m in \u001b[0;36mpandas.hashtable.PyObjectHashTable.get_item (pandas\\hashtable.c:13742)\u001b[0;34m()\u001b[0m\n",
      "\u001b[0;32mpandas\\src\\hashtable_class_helper.pxi\u001b[0m in \u001b[0;36mpandas.hashtable.PyObjectHashTable.get_item (pandas\\hashtable.c:13696)\u001b[0;34m()\u001b[0m\n",
      "\u001b[0;31mKeyError\u001b[0m: 127"
     ]
    }
   ],
   "source": [
    "def bar_plot_by_year(report_type,data = df, begin_year = 2004, end_year = 2016):\n",
    "    return data.plot.bar()\n",
    "    #return data.ix[begin_year:end_year,[report_type]]\n",
    "    \n",
    "df.ix[2004:2005]"
   ]
  },
  {
   "cell_type": "code",
   "execution_count": 6,
   "metadata": {
    "collapsed": false,
    "scrolled": true
   },
   "outputs": [],
   "source": []
  },
  {
   "cell_type": "code",
   "execution_count": null,
   "metadata": {
    "collapsed": true
   },
   "outputs": [],
   "source": []
  }
 ],
 "metadata": {
  "kernelspec": {
   "display_name": "Python 3",
   "language": "python",
   "name": "python3"
  },
  "language_info": {
   "codemirror_mode": {
    "name": "ipython",
    "version": 3
   },
   "file_extension": ".py",
   "mimetype": "text/x-python",
   "name": "python",
   "nbconvert_exporter": "python",
   "pygments_lexer": "ipython3",
   "version": "3.6.0"
  }
 },
 "nbformat": 4,
 "nbformat_minor": 2
}
