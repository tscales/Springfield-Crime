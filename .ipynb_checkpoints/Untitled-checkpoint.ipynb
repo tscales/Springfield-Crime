{
 "cells": [
  {
   "cell_type": "code",
   "execution_count": 1,
   "metadata": {
    "collapsed": false
   },
   "outputs": [],
   "source": [
    "% matplotlib inline\n",
    "import matplotlib.pyplot as plt\n",
    "import pandas as pd\n",
    "\n",
    "df = pd.read_pickle('data/Dataframe.pkl')"
   ]
  },
  {
   "cell_type": "code",
   "execution_count": 2,
   "metadata": {
    "collapsed": false
   },
   "outputs": [
    {
     "data": {
      "text/html": [
       "<div>\n",
       "<table border=\"1\" class=\"dataframe\">\n",
       "  <thead>\n",
       "    <tr style=\"text-align: right;\">\n",
       "      <th></th>\n",
       "      <th>Jan</th>\n",
       "      <th>Feb</th>\n",
       "      <th>Mar</th>\n",
       "      <th>Apr</th>\n",
       "      <th>May</th>\n",
       "      <th>Jun</th>\n",
       "      <th>Jul</th>\n",
       "      <th>Aug</th>\n",
       "      <th>Sep</th>\n",
       "      <th>Oct</th>\n",
       "      <th>Nov</th>\n",
       "      <th>Dec</th>\n",
       "    </tr>\n",
       "  </thead>\n",
       "  <tbody>\n",
       "    <tr>\n",
       "      <th>Abandoned 911 Call</th>\n",
       "      <td>5</td>\n",
       "      <td>4</td>\n",
       "      <td>8</td>\n",
       "      <td>2</td>\n",
       "      <td>2</td>\n",
       "      <td>5</td>\n",
       "      <td>4</td>\n",
       "      <td>6</td>\n",
       "      <td>6</td>\n",
       "      <td>4</td>\n",
       "      <td>2</td>\n",
       "      <td>4</td>\n",
       "    </tr>\n",
       "    <tr>\n",
       "      <th>Abandoned Vehicle</th>\n",
       "      <td>81</td>\n",
       "      <td>63</td>\n",
       "      <td>97</td>\n",
       "      <td>82</td>\n",
       "      <td>107</td>\n",
       "      <td>83</td>\n",
       "      <td>113</td>\n",
       "      <td>97</td>\n",
       "      <td>84</td>\n",
       "      <td>81</td>\n",
       "      <td>76</td>\n",
       "      <td>63</td>\n",
       "    </tr>\n",
       "    <tr>\n",
       "      <th>Abduction</th>\n",
       "      <td>4</td>\n",
       "      <td>2</td>\n",
       "      <td>4</td>\n",
       "      <td>1</td>\n",
       "      <td>2</td>\n",
       "      <td>5</td>\n",
       "      <td>3</td>\n",
       "      <td>3</td>\n",
       "      <td>1</td>\n",
       "      <td>2</td>\n",
       "      <td>1</td>\n",
       "      <td>2</td>\n",
       "    </tr>\n",
       "    <tr>\n",
       "      <th>Abduction - Non-Parent</th>\n",
       "      <td>1</td>\n",
       "      <td>0</td>\n",
       "      <td>0</td>\n",
       "      <td>0</td>\n",
       "      <td>0</td>\n",
       "      <td>0</td>\n",
       "      <td>0</td>\n",
       "      <td>0</td>\n",
       "      <td>0</td>\n",
       "      <td>0</td>\n",
       "      <td>0</td>\n",
       "      <td>0</td>\n",
       "    </tr>\n",
       "    <tr>\n",
       "      <th>Abduction - Parent</th>\n",
       "      <td>1</td>\n",
       "      <td>2</td>\n",
       "      <td>1</td>\n",
       "      <td>1</td>\n",
       "      <td>1</td>\n",
       "      <td>3</td>\n",
       "      <td>0</td>\n",
       "      <td>3</td>\n",
       "      <td>1</td>\n",
       "      <td>2</td>\n",
       "      <td>3</td>\n",
       "      <td>1</td>\n",
       "    </tr>\n",
       "  </tbody>\n",
       "</table>\n",
       "</div>"
      ],
      "text/plain": [
       "                        Jan  Feb  Mar  Apr  May  Jun  Jul  Aug  Sep  Oct  Nov  \\\n",
       "Abandoned 911 Call        5    4    8    2    2    5    4    6    6    4    2   \n",
       "Abandoned Vehicle        81   63   97   82  107   83  113   97   84   81   76   \n",
       "Abduction                 4    2    4    1    2    5    3    3    1    2    1   \n",
       "Abduction - Non-Parent    1    0    0    0    0    0    0    0    0    0    0   \n",
       "Abduction - Parent        1    2    1    1    1    3    0    3    1    2    3   \n",
       "\n",
       "                        Dec  \n",
       "Abandoned 911 Call        4  \n",
       "Abandoned Vehicle        63  \n",
       "Abduction                 2  \n",
       "Abduction - Non-Parent    0  \n",
       "Abduction - Parent        1  "
      ]
     },
     "execution_count": 2,
     "metadata": {},
     "output_type": "execute_result"
    }
   ],
   "source": [
    "df[2004][:5]"
   ]
  },
  {
   "cell_type": "code",
   "execution_count": 3,
   "metadata": {
    "collapsed": false
   },
   "outputs": [
    {
     "data": {
      "text/plain": [
       "279"
      ]
     },
     "execution_count": 3,
     "metadata": {},
     "output_type": "execute_result"
    }
   ],
   "source": [
    "def getIncidentTotals(incident,df = df, byear = 2004, eyear = 2016):\n",
    "    '''returns the sum of incident reports for an incident type in the specified date range'''\n",
    "    \n",
    "    return sum([df[year].ix[incident].sum() for year in range(byear, eyear + 1)])\n",
    "\n",
    "getIncidentTotals('Suicide')"
   ]
  },
  {
   "cell_type": "code",
   "execution_count": 4,
   "metadata": {
    "collapsed": false
   },
   "outputs": [
    {
     "data": {
      "text/plain": [
       "<matplotlib.axes._subplots.AxesSubplot at 0x1f21e6ee4a8>"
      ]
     },
     "execution_count": 4,
     "metadata": {},
     "output_type": "execute_result"
    },
    {
     "data": {
      "image/png": "[encoded data removed]",
      "text/plain": [
       "<matplotlib.figure.Figure at 0x1f21e6e2c50>"
      ]
     },
     "metadata": {},
     "output_type": "display_data"
    }
   ],
   "source": [
    "def bar_plot_by_year(name, df = df):\n",
    "    r = pd.Series((df[i].ix[name].sum() for i in range(2004,2017)), index =[[i for i in range(2004,2017)]])\n",
    "    return r.plot.bar(use_index = True)\n",
    "bar_plot_by_year(\"Disturbance - Domestic\")"
   ]
  },
  {
   "cell_type": "code",
   "execution_count": 5,
   "metadata": {
    "collapsed": false
   },
   "outputs": [
    {
     "data": {
      "text/plain": [
       "<matplotlib.axes._subplots.AxesSubplot at 0x1f21e6ee400>"
      ]
     },
     "execution_count": 5,
     "metadata": {},
     "output_type": "execute_result"
    },
    {
     "data": {
      "image/png": "[encoded data removed]",
      "text/plain": [
       "<matplotlib.figure.Figure at 0x1f21e696e10>"
      ]
     },
     "metadata": {},
     "output_type": "display_data"
    }
   ],
   "source": [
    "test = plt.figure()\n",
    "df[2007].ix['Child Abuse'].plot(xticks =range(0,12),title = 'Child Abuse, 2007')"
   ]
  },
  {
   "cell_type": "code",
   "execution_count": 9,
   "metadata": {
    "collapsed": false
   },
   "outputs": [
    {
     "data": {
      "image/png": "[encoded data removed]",
      "text/plain": [
       "<matplotlib.figure.Figure at 0x1f21eb85400>"
      ]
     },
     "metadata": {},
     "output_type": "display_data"
    }
   ],
   "source": [
    "#in this cell... averages for months? \n",
    "def average_by_month(incident, month):\n",
    "    '''returns the averages  number of occurances in the month specified'''\n",
    "    return df.ix[incident][:,month]\n",
    "\n",
    "def display_averages(incident):\n",
    "    for month in ['Jan','Feb','Mar','Apr','May','Jun','Jul','Aug','Sep','Oct','Nov','Dec']:\n",
    "        print(month, average_by_month('Vehicle Accident - Non-Injury', month).mean())\n",
    "\n",
    "def display_plot(incident):\n",
    "    result = []\n",
    "    plt.figure();\n",
    "    for month in ['Jan','Feb','Mar','Apr','May','Jun','Jul','Aug','Sep','Oct','Nov','Dec']:\n",
    "         result.append(average_by_month(incident,month).mean())\n",
    "    pd.Series(result,index =['Jan','Feb','Mar','Apr','May','Jun','Jul','Aug','Sep','Oct','Nov','Dec']).plot.bar(xticks = range(0,12),title = incident +' Monthly Average 2004-2016', figsize=(12,6))\n",
    "\n",
    "display_plot('Vehicle Accident - Non-Injury')\n",
    "\n",
    "#for month in ['Jan','Feb','Mar','Apr','May','Jun','Jul','Aug','Sep','Oct','Nov','Dec']:\n",
    "#    print(month, average_by_month('Vehicle Accident - Non-Injury',month).mean())\n",
    "    "
   ]
  },
  {
   "cell_type": "code",
   "execution_count": 7,
   "metadata": {
    "collapsed": false
   },
   "outputs": [
    {
     "data": {
      "text/plain": [
       "count    12.000000\n",
       "mean      1.666667\n",
       "std       0.984732\n",
       "min       0.000000\n",
       "25%       1.000000\n",
       "50%       1.500000\n",
       "75%       2.250000\n",
       "max       3.000000\n",
       "Name: Suicide, dtype: float64"
      ]
     },
     "execution_count": 7,
     "metadata": {},
     "output_type": "execute_result"
    }
   ],
   "source": [
    "df[2006].ix['Suicide'].describe()"
   ]
  },
  {
   "cell_type": "code",
   "execution_count": 8,
   "metadata": {
    "collapsed": false
   },
   "outputs": [
    {
     "name": "stdout",
     "output_type": "stream",
     "text": [
      "Abandoned 911 Call, Abandoned Vehicle, Abduction, Abduction - Non-Parent, Abduction - Parent, Accident - Non-Vehicle, Administrative Duties, Alarm - Law Only, Animal Call, Animal Call - Past, Assault, Assault - Past, Assist An Agency, Assist Person, Auto Theft, Auto Theft - Past, Bomb Device Law, Break, Burglary - Commercial, Burglary - Commercial - Past, Burglary - Residential, Burglary - Residential - Past, Check Building, Check Person, Check Person - Weapon, Check Vehicle, Check Well-Being, Check Well-Being - Comb, Child Abuse, Citizen Contact Info, Civil, Combined Ems Call, Combined Industrial, Community Event, Court Appearance, Deceased Person, Disturbance - Domestic, Disturbance - Domestic - Past, Disturbance - General, Disturbance - General - Past, Driving Intoxicated, Drugs, Drugs - Past, Drunk Person, Elder Abuse, Emergency Message Relay, Fail To Return Borrowed Vehicle, Fail To Return Leased Property, Fireworks, Follow Up, Foot Pursuit, Forgery, Forgery - Past, Found Property, Graffitti Call, Harrassment, Harrassment - Past, Identity Theft, In-Service At Hq, In-Service At Sds, Indecent Exposure, Indecent Exposure - Past, Info Broadcast, Juvenile Situation, Juvenile Situation - Past, Left Without Paying, Liquor Law Violation, Liquor Law Violation - Past, Lost Property, Loud Party, Loud Party - Past, Miscellaneous - Other, Missing Person - Adult, Missing Person - Juvenile, Noise Disturbance, Noise Disturbance - Past, Nuisance, Officer Initiated Incident, Order Protection Violation, Order Protection Violation - Past, Prisoner Transport, Prostitution, Prostitution - Past, Prowler, Prowler - Past, Pursuit - Traffic, Recovered Vehicle, Repossessed Vehicle, Robbery, Robbery - Attempted, Robbery - Past, Rx Forgery, Rx Forgery - Past, Sex Offender Check, Sex Offense - Not Rape, Sex Offense - Not Rape - Past, Shoplifting, Shots Heard, Special Assignment, Stalking, Stalled Vehicle, Stealing, Stealing - Past, Stealing From A Vehicle, Stealing From A Vehicle - Past, Suicide, Suicide Attempt, Suicide Attempt - Comb, Terrorist Threat, Terrorist Threat - Past, Traffic Control, Traffic Enforcement, Traffic Violation - Moving, Traffic Violation - Non-Moving, Train Emergency, Trespassing, Trespassing - Past, Vandalism, Vandalism - Past, Vehicle Accident - Fatal, Vehicle Accident - Injury, Vehicle Accident - Injury - Comb, Vehicle Accident - Left The Scene, Vehicle Accident - Non-Injury, Vehicle Accident - Past, Vehicle Maintenance, Warrant - Arrest, Warrant - Search, "
     ]
    }
   ],
   "source": [
    "def getReportNames(result = df):\n",
    "    '''displays a list of report names in the dataFrame'''\n",
    "    return list(df.index)\n",
    "test = getReportNames()\n",
    "for i in test:\n",
    "    print(i, end=', ')"
   ]
  },
  {
   "cell_type": "code",
   "execution_count": null,
   "metadata": {
    "collapsed": true
   },
   "outputs": [],
   "source": []
  }
 ],
 "metadata": {
  "kernelspec": {
   "display_name": "Python 3",
   "language": "python",
   "name": "python3"
  },
  "language_info": {
   "codemirror_mode": {
    "name": "ipython",
    "version": 3
   },
   "file_extension": ".py",
   "mimetype": "text/x-python",
   "name": "python",
   "nbconvert_exporter": "python",
   "pygments_lexer": "ipython3",
   "version": "3.6.0"
  }
 },
 "nbformat": 4,
 "nbformat_minor": 2
}
