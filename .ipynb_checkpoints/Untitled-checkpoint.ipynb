{
 "cells": [
  {
   "cell_type": "code",
   "execution_count": 1,
   "metadata": {
    "collapsed": false
   },
   "outputs": [],
   "source": [
    "% matplotlib inline\n",
    "import matplotlib.pyplot as plt\n",
    "import pandas as pd\n",
    "\n",
    "df = pd.read_pickle('data/Dataframe.pkl')"
   ]
  },
  {
   "cell_type": "code",
   "execution_count": 178,
   "metadata": {
    "collapsed": false
   },
   "outputs": [
    {
     "data": {
      "text/html": [
       "<div>\n",
       "<table border=\"1\" class=\"dataframe\">\n",
       "  <thead>\n",
       "    <tr>\n",
       "      <th></th>\n",
       "      <th colspan=\"10\" halign=\"left\">2004</th>\n",
       "      <th>...</th>\n",
       "      <th colspan=\"10\" halign=\"left\">2016</th>\n",
       "    </tr>\n",
       "    <tr>\n",
       "      <th></th>\n",
       "      <th>Jan</th>\n",
       "      <th>Feb</th>\n",
       "      <th>Mar</th>\n",
       "      <th>Apr</th>\n",
       "      <th>May</th>\n",
       "      <th>Jun</th>\n",
       "      <th>Jul</th>\n",
       "      <th>Aug</th>\n",
       "      <th>Sep</th>\n",
       "      <th>Oct</th>\n",
       "      <th>...</th>\n",
       "      <th>Mar</th>\n",
       "      <th>Apr</th>\n",
       "      <th>May</th>\n",
       "      <th>Jun</th>\n",
       "      <th>Jul</th>\n",
       "      <th>Aug</th>\n",
       "      <th>Sep</th>\n",
       "      <th>Oct</th>\n",
       "      <th>Nov</th>\n",
       "      <th>Dec</th>\n",
       "    </tr>\n",
       "  </thead>\n",
       "  <tbody>\n",
       "    <tr>\n",
       "      <th>Abandoned 911 Call</th>\n",
       "      <td>5</td>\n",
       "      <td>4</td>\n",
       "      <td>8</td>\n",
       "      <td>2</td>\n",
       "      <td>2</td>\n",
       "      <td>5</td>\n",
       "      <td>4</td>\n",
       "      <td>6</td>\n",
       "      <td>6</td>\n",
       "      <td>4</td>\n",
       "      <td>...</td>\n",
       "      <td>0</td>\n",
       "      <td>0</td>\n",
       "      <td>1</td>\n",
       "      <td>0</td>\n",
       "      <td>0</td>\n",
       "      <td>0</td>\n",
       "      <td>0</td>\n",
       "      <td>0</td>\n",
       "      <td>0</td>\n",
       "      <td>0</td>\n",
       "    </tr>\n",
       "    <tr>\n",
       "      <th>Abandoned Vehicle</th>\n",
       "      <td>81</td>\n",
       "      <td>63</td>\n",
       "      <td>97</td>\n",
       "      <td>82</td>\n",
       "      <td>107</td>\n",
       "      <td>83</td>\n",
       "      <td>113</td>\n",
       "      <td>97</td>\n",
       "      <td>84</td>\n",
       "      <td>81</td>\n",
       "      <td>...</td>\n",
       "      <td>159</td>\n",
       "      <td>147</td>\n",
       "      <td>121</td>\n",
       "      <td>66</td>\n",
       "      <td>83</td>\n",
       "      <td>85</td>\n",
       "      <td>100</td>\n",
       "      <td>122</td>\n",
       "      <td>86</td>\n",
       "      <td>93</td>\n",
       "    </tr>\n",
       "    <tr>\n",
       "      <th>Abduction</th>\n",
       "      <td>4</td>\n",
       "      <td>2</td>\n",
       "      <td>4</td>\n",
       "      <td>1</td>\n",
       "      <td>2</td>\n",
       "      <td>5</td>\n",
       "      <td>3</td>\n",
       "      <td>3</td>\n",
       "      <td>1</td>\n",
       "      <td>2</td>\n",
       "      <td>...</td>\n",
       "      <td>0</td>\n",
       "      <td>0</td>\n",
       "      <td>0</td>\n",
       "      <td>0</td>\n",
       "      <td>0</td>\n",
       "      <td>0</td>\n",
       "      <td>0</td>\n",
       "      <td>0</td>\n",
       "      <td>0</td>\n",
       "      <td>0</td>\n",
       "    </tr>\n",
       "    <tr>\n",
       "      <th>Abduction - Non-Parent</th>\n",
       "      <td>1</td>\n",
       "      <td>0</td>\n",
       "      <td>0</td>\n",
       "      <td>0</td>\n",
       "      <td>0</td>\n",
       "      <td>0</td>\n",
       "      <td>0</td>\n",
       "      <td>0</td>\n",
       "      <td>0</td>\n",
       "      <td>0</td>\n",
       "      <td>...</td>\n",
       "      <td>1</td>\n",
       "      <td>0</td>\n",
       "      <td>0</td>\n",
       "      <td>2</td>\n",
       "      <td>4</td>\n",
       "      <td>1</td>\n",
       "      <td>0</td>\n",
       "      <td>0</td>\n",
       "      <td>2</td>\n",
       "      <td>1</td>\n",
       "    </tr>\n",
       "    <tr>\n",
       "      <th>Abduction - Parent</th>\n",
       "      <td>1</td>\n",
       "      <td>2</td>\n",
       "      <td>1</td>\n",
       "      <td>1</td>\n",
       "      <td>1</td>\n",
       "      <td>3</td>\n",
       "      <td>0</td>\n",
       "      <td>3</td>\n",
       "      <td>1</td>\n",
       "      <td>2</td>\n",
       "      <td>...</td>\n",
       "      <td>1</td>\n",
       "      <td>2</td>\n",
       "      <td>1</td>\n",
       "      <td>2</td>\n",
       "      <td>1</td>\n",
       "      <td>0</td>\n",
       "      <td>0</td>\n",
       "      <td>1</td>\n",
       "      <td>0</td>\n",
       "      <td>0</td>\n",
       "    </tr>\n",
       "  </tbody>\n",
       "</table>\n",
       "<p>5 rows × 156 columns</p>\n",
       "</div>"
      ],
      "text/plain": [
       "                       2004                                       ... 2016  \\\n",
       "                        Jan Feb Mar Apr  May Jun  Jul Aug Sep Oct ...  Mar   \n",
       "Abandoned 911 Call        5   4   8   2    2   5    4   6   6   4 ...    0   \n",
       "Abandoned Vehicle        81  63  97  82  107  83  113  97  84  81 ...  159   \n",
       "Abduction                 4   2   4   1    2   5    3   3   1   2 ...    0   \n",
       "Abduction - Non-Parent    1   0   0   0    0   0    0   0   0   0 ...    1   \n",
       "Abduction - Parent        1   2   1   1    1   3    0   3   1   2 ...    1   \n",
       "\n",
       "                                                                \n",
       "                        Apr  May Jun Jul Aug  Sep  Oct Nov Dec  \n",
       "Abandoned 911 Call        0    1   0   0   0    0    0   0   0  \n",
       "Abandoned Vehicle       147  121  66  83  85  100  122  86  93  \n",
       "Abduction                 0    0   0   0   0    0    0   0   0  \n",
       "Abduction - Non-Parent    0    0   2   4   1    0    0   2   1  \n",
       "Abduction - Parent        2    1   2   1   0    0    1   0   0  \n",
       "\n",
       "[5 rows x 156 columns]"
      ]
     },
     "execution_count": 178,
     "metadata": {},
     "output_type": "execute_result"
    }
   ],
   "source": [
    "df.head()"
   ]
  },
  {
   "cell_type": "code",
   "execution_count": 174,
   "metadata": {
    "collapsed": false
   },
   "outputs": [
    {
     "data": {
      "text/html": [
       "<div>\n",
       "<table border=\"1\" class=\"dataframe\">\n",
       "  <thead>\n",
       "    <tr>\n",
       "      <th></th>\n",
       "      <th colspan=\"10\" halign=\"left\">2010</th>\n",
       "      <th>...</th>\n",
       "      <th colspan=\"10\" halign=\"left\">2016</th>\n",
       "    </tr>\n",
       "    <tr>\n",
       "      <th></th>\n",
       "      <th>Jan</th>\n",
       "      <th>Feb</th>\n",
       "      <th>Mar</th>\n",
       "      <th>Apr</th>\n",
       "      <th>May</th>\n",
       "      <th>Jun</th>\n",
       "      <th>Jul</th>\n",
       "      <th>Aug</th>\n",
       "      <th>Sep</th>\n",
       "      <th>Oct</th>\n",
       "      <th>...</th>\n",
       "      <th>Mar</th>\n",
       "      <th>Apr</th>\n",
       "      <th>May</th>\n",
       "      <th>Jun</th>\n",
       "      <th>Jul</th>\n",
       "      <th>Aug</th>\n",
       "      <th>Sep</th>\n",
       "      <th>Oct</th>\n",
       "      <th>Nov</th>\n",
       "      <th>Dec</th>\n",
       "    </tr>\n",
       "  </thead>\n",
       "  <tbody>\n",
       "    <tr>\n",
       "      <th>Abandoned 911 Call</th>\n",
       "      <td>1</td>\n",
       "      <td>1</td>\n",
       "      <td>0</td>\n",
       "      <td>0</td>\n",
       "      <td>1</td>\n",
       "      <td>0</td>\n",
       "      <td>2</td>\n",
       "      <td>2</td>\n",
       "      <td>2</td>\n",
       "      <td>1</td>\n",
       "      <td>...</td>\n",
       "      <td>0</td>\n",
       "      <td>0</td>\n",
       "      <td>1</td>\n",
       "      <td>0</td>\n",
       "      <td>0</td>\n",
       "      <td>0</td>\n",
       "      <td>0</td>\n",
       "      <td>0</td>\n",
       "      <td>0</td>\n",
       "      <td>0</td>\n",
       "    </tr>\n",
       "    <tr>\n",
       "      <th>Abandoned Vehicle</th>\n",
       "      <td>38</td>\n",
       "      <td>32</td>\n",
       "      <td>55</td>\n",
       "      <td>31</td>\n",
       "      <td>46</td>\n",
       "      <td>30</td>\n",
       "      <td>61</td>\n",
       "      <td>67</td>\n",
       "      <td>39</td>\n",
       "      <td>37</td>\n",
       "      <td>...</td>\n",
       "      <td>159</td>\n",
       "      <td>147</td>\n",
       "      <td>121</td>\n",
       "      <td>66</td>\n",
       "      <td>83</td>\n",
       "      <td>85</td>\n",
       "      <td>100</td>\n",
       "      <td>122</td>\n",
       "      <td>86</td>\n",
       "      <td>93</td>\n",
       "    </tr>\n",
       "    <tr>\n",
       "      <th>Abduction</th>\n",
       "      <td>2</td>\n",
       "      <td>0</td>\n",
       "      <td>0</td>\n",
       "      <td>0</td>\n",
       "      <td>0</td>\n",
       "      <td>3</td>\n",
       "      <td>1</td>\n",
       "      <td>1</td>\n",
       "      <td>2</td>\n",
       "      <td>4</td>\n",
       "      <td>...</td>\n",
       "      <td>0</td>\n",
       "      <td>0</td>\n",
       "      <td>0</td>\n",
       "      <td>0</td>\n",
       "      <td>0</td>\n",
       "      <td>0</td>\n",
       "      <td>0</td>\n",
       "      <td>0</td>\n",
       "      <td>0</td>\n",
       "      <td>0</td>\n",
       "    </tr>\n",
       "    <tr>\n",
       "      <th>Abduction - Non-Parent</th>\n",
       "      <td>0</td>\n",
       "      <td>0</td>\n",
       "      <td>0</td>\n",
       "      <td>0</td>\n",
       "      <td>0</td>\n",
       "      <td>0</td>\n",
       "      <td>0</td>\n",
       "      <td>0</td>\n",
       "      <td>0</td>\n",
       "      <td>0</td>\n",
       "      <td>...</td>\n",
       "      <td>1</td>\n",
       "      <td>0</td>\n",
       "      <td>0</td>\n",
       "      <td>2</td>\n",
       "      <td>4</td>\n",
       "      <td>1</td>\n",
       "      <td>0</td>\n",
       "      <td>0</td>\n",
       "      <td>2</td>\n",
       "      <td>1</td>\n",
       "    </tr>\n",
       "    <tr>\n",
       "      <th>Abduction - Parent</th>\n",
       "      <td>2</td>\n",
       "      <td>0</td>\n",
       "      <td>1</td>\n",
       "      <td>3</td>\n",
       "      <td>1</td>\n",
       "      <td>2</td>\n",
       "      <td>1</td>\n",
       "      <td>0</td>\n",
       "      <td>1</td>\n",
       "      <td>1</td>\n",
       "      <td>...</td>\n",
       "      <td>1</td>\n",
       "      <td>2</td>\n",
       "      <td>1</td>\n",
       "      <td>2</td>\n",
       "      <td>1</td>\n",
       "      <td>0</td>\n",
       "      <td>0</td>\n",
       "      <td>1</td>\n",
       "      <td>0</td>\n",
       "      <td>0</td>\n",
       "    </tr>\n",
       "  </tbody>\n",
       "</table>\n",
       "<p>5 rows × 84 columns</p>\n",
       "</div>"
      ],
      "text/plain": [
       "                       2010                                     ... 2016       \\\n",
       "                        Jan Feb Mar Apr May Jun Jul Aug Sep Oct ...  Mar  Apr   \n",
       "Abandoned 911 Call        1   1   0   0   1   0   2   2   2   1 ...    0    0   \n",
       "Abandoned Vehicle        38  32  55  31  46  30  61  67  39  37 ...  159  147   \n",
       "Abduction                 2   0   0   0   0   3   1   1   2   4 ...    0    0   \n",
       "Abduction - Non-Parent    0   0   0   0   0   0   0   0   0   0 ...    1    0   \n",
       "Abduction - Parent        2   0   1   3   1   2   1   0   1   1 ...    1    2   \n",
       "\n",
       "                                                           \n",
       "                        May Jun Jul Aug  Sep  Oct Nov Dec  \n",
       "Abandoned 911 Call        1   0   0   0    0    0   0   0  \n",
       "Abandoned Vehicle       121  66  83  85  100  122  86  93  \n",
       "Abduction                 0   0   0   0    0    0   0   0  \n",
       "Abduction - Non-Parent    0   2   4   1    0    0   2   1  \n",
       "Abduction - Parent        1   2   1   0    0    1   0   0  \n",
       "\n",
       "[5 rows x 84 columns]"
      ]
     },
     "execution_count": 174,
     "metadata": {},
     "output_type": "execute_result"
    }
   ],
   "source": [
    "def set_years(Byear, Eyear, df = df):\n",
    "    \n",
    "    if Eyear == Byear:\n",
    "        return df[Eyear]\n",
    "    if Eyear > 2016 or Byear < 2004:\n",
    "        raise ValueError(\"beginning year cannot be before 2004 and end year cannot be after 2016\")\n",
    "    if Eyear < Byear:\n",
    "        raise ValueError(\"End year must be greater than Beginning year\")\n",
    "    return df.ix[:,Byear:Eyear]\n",
    "\n",
    "new_df = set_years(2010,2016)\n",
    "new_df.head()"
   ]
  },
  {
   "cell_type": "code",
   "execution_count": 3,
   "metadata": {
    "collapsed": false
   },
   "outputs": [
    {
     "data": {
      "text/plain": [
       "279"
      ]
     },
     "execution_count": 3,
     "metadata": {},
     "output_type": "execute_result"
    }
   ],
   "source": [
    "def getIncidentTotals(incident,df = df, byear = 2004, eyear = 2016):\n",
    "    '''returns the sum of incident reports for an incident type in the specified date range'''\n",
    "    \n",
    "    return sum([df[year].ix[incident].sum() for year in range(byear, eyear + 1)])\n",
    "\n",
    "getIncidentTotals('Suicide')"
   ]
  },
  {
   "cell_type": "code",
   "execution_count": 126,
   "metadata": {
    "collapsed": false
   },
   "outputs": [
    {
     "data": {
      "text/plain": [
       "<matplotlib.axes._subplots.AxesSubplot at 0x2363e0244a8>"
      ]
     },
     "execution_count": 126,
     "metadata": {},
     "output_type": "execute_result"
    },
    {
     "data": {
      "image/png": "[encoded data removed]",
      "text/plain": [
       "<matplotlib.figure.Figure at 0x2363e0523c8>"
      ]
     },
     "metadata": {},
     "output_type": "display_data"
    }
   ],
   "source": [
    "def bar_plot_year_totals(name, df = df):\n",
    "    r = pd.Series((df[year].ix[name].sum() for year in range(2004,2017)), index =[[i for i in range(2004,2017)]])\n",
    "    return r.plot.bar(use_index = True, title = name + ', 2004:2016')\n",
    "bar_plot_year_totals(\"Disturbance - Domestic\")"
   ]
  },
  {
   "cell_type": "code",
   "execution_count": 149,
   "metadata": {
    "collapsed": false
   },
   "outputs": [
    {
     "data": {
      "image/png": "[encoded data removed]",
      "text/plain": [
       "<matplotlib.figure.Figure at 0x2363fc40f28>"
      ]
     },
     "metadata": {},
     "output_type": "display_data"
    }
   ],
   "source": [
    "#test = plt.figure()\n",
    "def report_for_year(name, year):\n",
    "    return df[year].ix[name].plot(legend = True,label = year,xticks= range(0,12),title = 'Child Abuse 2008-2011')\n",
    "#df[2007].ix['Child Abuse'].plot(xticks =range(0,12),title = 'Child Abuse, 2007')\n",
    "\n",
    "for i in range(2012,2017):\n",
    "    report_for_year('Child Abuse', i)\n"
   ]
  },
  {
   "cell_type": "code",
   "execution_count": 160,
   "metadata": {
    "collapsed": false
   },
   "outputs": [
    {
     "name": "stdout",
     "output_type": "stream",
     "text": [
      "('Jan', 43.15384615384615)\n",
      "('Feb', 41.61538461538461)\n",
      "('Mar', 44.23076923076923)\n",
      "('Apr', 46.23076923076923)\n",
      "('May', 48.07692307692308)\n",
      "('Jun', 36.69230769230769)\n",
      "('Jul', 37.38461538461539)\n",
      "('Aug', 42.23076923076923)\n",
      "('Sep', 45.69230769230769)\n",
      "('Oct', 44.38461538461539)\n",
      "('Nov', 41.07692307692308)\n",
      "('Dec', 37.69230769230769)\n"
     ]
    }
   ],
   "source": [
    "frames = []\n",
    "for month in ['Jan','Feb','Mar','Apr','May','Jun','Jul','Aug','Sep','Oct','Nov','Dec']:\n",
    "    frames.append((month,df.ix['Child Abuse'][:,month].mean()))\n",
    "for i in frames:\n",
    "    print(i)"
   ]
  },
  {
   "cell_type": "code",
   "execution_count": 170,
   "metadata": {
    "collapsed": false
   },
   "outputs": [
    {
     "data": {
      "image/png": "[encoded data removed]",
      "text/plain": [
       "<matplotlib.figure.Figure at 0x2363e9e4668>"
      ]
     },
     "metadata": {},
     "output_type": "display_data"
    }
   ],
   "source": [
    "#in this cell... averages for months? \n",
    "def average_by_month(incident, month):\n",
    "    '''returns the averages  number of occurances in the month specified'''\n",
    "    return df.ix[incident][:,month]\n",
    "\n",
    "def display_averages(incident):\n",
    "    for month in ['Jan','Feb','Mar','Apr','May','Jun','Jul','Aug','Sep','Oct','Nov','Dec']:\n",
    "        print(month, average_by_month('Vehicle Accident - Non-Injury', month).mean())\n",
    "\n",
    "def display_plot(incident):\n",
    "    result = []\n",
    "    plt.figure();\n",
    "    for month in ['Jan','Feb','Mar','Apr','May','Jun','Jul','Aug','Sep','Oct','Nov','Dec']:\n",
    "         result.append(average_by_month(incident,month).mean())\n",
    "    pd.Series(result,index =['Jan','Feb','Mar','Apr','May','Jun','Jul','Aug','Sep','Oct','Nov','Dec']).plot(xticks = range(0,12),title = incident +' Average Reports Per Month, Springfield, MO, 2004-2016', figsize=(12,6))\n",
    "\n",
    "display_plot('Child Abuse')\n",
    "\n",
    "#for month in ['Jan','Feb','Mar','Apr','May','Jun','Jul','Aug','Sep','Oct','Nov','Dec']:\n",
    "#    print(month, average_by_month('Vehicle Accident - Non-Injury',month).mean())\n",
    "    "
   ]
  },
  {
   "cell_type": "code",
   "execution_count": 7,
   "metadata": {
    "collapsed": false
   },
   "outputs": [
    {
     "data": {
      "text/plain": [
       "count    12.000000\n",
       "mean      1.666667\n",
       "std       0.984732\n",
       "min       0.000000\n",
       "25%       1.000000\n",
       "50%       1.500000\n",
       "75%       2.250000\n",
       "max       3.000000\n",
       "Name: Suicide, dtype: float64"
      ]
     },
     "execution_count": 7,
     "metadata": {},
     "output_type": "execute_result"
    }
   ],
   "source": [
    "df[2006].ix['Suicide'].describe()"
   ]
  },
  {
   "cell_type": "code",
   "execution_count": 8,
   "metadata": {
    "collapsed": false
   },
   "outputs": [
    {
     "name": "stdout",
     "output_type": "stream",
     "text": [
      "Abandoned 911 Call, Abandoned Vehicle, Abduction, Abduction - Non-Parent, Abduction - Parent, Accident - Non-Vehicle, Administrative Duties, Alarm - Law Only, Animal Call, Animal Call - Past, Assault, Assault - Past, Assist An Agency, Assist Person, Auto Theft, Auto Theft - Past, Bomb Device Law, Break, Burglary - Commercial, Burglary - Commercial - Past, Burglary - Residential, Burglary - Residential - Past, Check Building, Check Person, Check Person - Weapon, Check Vehicle, Check Well-Being, Check Well-Being - Comb, Child Abuse, Citizen Contact Info, Civil, Combined Ems Call, Combined Industrial, Community Event, Court Appearance, Deceased Person, Disturbance - Domestic, Disturbance - Domestic - Past, Disturbance - General, Disturbance - General - Past, Driving Intoxicated, Drugs, Drugs - Past, Drunk Person, Elder Abuse, Emergency Message Relay, Fail To Return Borrowed Vehicle, Fail To Return Leased Property, Fireworks, Follow Up, Foot Pursuit, Forgery, Forgery - Past, Found Property, Graffitti Call, Harrassment, Harrassment - Past, Identity Theft, In-Service At Hq, In-Service At Sds, Indecent Exposure, Indecent Exposure - Past, Info Broadcast, Juvenile Situation, Juvenile Situation - Past, Left Without Paying, Liquor Law Violation, Liquor Law Violation - Past, Lost Property, Loud Party, Loud Party - Past, Miscellaneous - Other, Missing Person - Adult, Missing Person - Juvenile, Noise Disturbance, Noise Disturbance - Past, Nuisance, Officer Initiated Incident, Order Protection Violation, Order Protection Violation - Past, Prisoner Transport, Prostitution, Prostitution - Past, Prowler, Prowler - Past, Pursuit - Traffic, Recovered Vehicle, Repossessed Vehicle, Robbery, Robbery - Attempted, Robbery - Past, Rx Forgery, Rx Forgery - Past, Sex Offender Check, Sex Offense - Not Rape, Sex Offense - Not Rape - Past, Shoplifting, Shots Heard, Special Assignment, Stalking, Stalled Vehicle, Stealing, Stealing - Past, Stealing From A Vehicle, Stealing From A Vehicle - Past, Suicide, Suicide Attempt, Suicide Attempt - Comb, Terrorist Threat, Terrorist Threat - Past, Traffic Control, Traffic Enforcement, Traffic Violation - Moving, Traffic Violation - Non-Moving, Train Emergency, Trespassing, Trespassing - Past, Vandalism, Vandalism - Past, Vehicle Accident - Fatal, Vehicle Accident - Injury, Vehicle Accident - Injury - Comb, Vehicle Accident - Left The Scene, Vehicle Accident - Non-Injury, Vehicle Accident - Past, Vehicle Maintenance, Warrant - Arrest, Warrant - Search, "
     ]
    }
   ],
   "source": [
    "def getReportNames(result = df):\n",
    "    '''displays a list of report names in the dataFrame'''\n",
    "    return list(df.index)\n",
    "test = getReportNames()\n",
    "for i in test:\n",
    "    print(i, end=', ')"
   ]
  },
  {
   "cell_type": "code",
   "execution_count": null,
   "metadata": {
    "collapsed": true
   },
   "outputs": [],
   "source": []
  }
 ],
 "metadata": {
  "kernelspec": {
   "display_name": "Python 3",
   "language": "python",
   "name": "python3"
  },
  "language_info": {
   "codemirror_mode": {
    "name": "ipython",
    "version": 3
   },
   "file_extension": ".py",
   "mimetype": "text/x-python",
   "name": "python",
   "nbconvert_exporter": "python",
   "pygments_lexer": "ipython3",
   "version": "3.6.0"
  }
 },
 "nbformat": 4,
 "nbformat_minor": 2
}
