{
 "cells": [
  {
   "cell_type": "markdown",
   "metadata": {},
   "source": [
    "# Heat Maps\n",
    "\n",
    "Heat Maps were generated using the gmaps library."
   ]
  },
  {
   "cell_type": "code",
   "execution_count": null,
   "metadata": {},
   "outputs": [],
   "source": [
    "import pandas as pd\n",
    "import gmaps\n",
    "data = pd.read_pickle('weight-geo-datetime.pkl') # pkl file not included due to file size limitations\n",
    "gmaps.configure(api_key = 'GOOGLE API KEY')\n"
   ]
  },
  {
   "cell_type": "markdown",
   "metadata": {},
   "source": [
    "the original dataset includes 500 thousand police reports filed between 2004 and 2016 \n",
    "\n",
    "Each police report includes the date,address, longitude, latitude, and type of incident responded to. \n",
    "\n",
    "A weight column is also included as a way to filter out less import reports such as wellness checks and adminstrative reports. the weight column ranges from 0.25 - 4.\n",
    "\n",
    "by indexing the datetime object we can break the data up by years. "
   ]
  },
  {
   "cell_type": "code",
   "execution_count": null,
   "metadata": {},
   "outputs": [],
   "source": [
    "data = data.set_index(pd.DatetimeIndex(data['date']))\n",
    "year_four = data['20040101':'20041231']\n",
    "year_five = data['20050101':'20051231']\n",
    "...\n",
    "year_sixteen = data['20160101':'20161231']"
   ]
  },
  {
   "cell_type": "code",
   "execution_count": null,
   "metadata": {},
   "outputs": [],
   "source": [
    "springfield_coordinates = [37.198986,-93.292256]\n",
    "\n",
    "#create the map, add the heat map layer and export. \n",
    "fig = gmaps.figure(center= springfield_center, zoom_level = 12)\n",
    "heat = gmaps.heatmap_layer(year_four[['lat','lng']], point_radius =50,max_intensity = 350)\n",
    "heat.gradient = ['green','yellow','red']\n",
    "fig.add_layer(heat)\n",
    "fig"
   ]
  },
  {
   "cell_type": "markdown",
   "metadata": {},
   "source": [
    "example map showing data from 2004\n",
    "\n",
    "![2004](../img/heat-maps/four.png)\n",
    "\n",
    "## Limitations\n",
    "\n",
    "the viewer should do their own research in to the safety of neighborhoods and not base their decision soley on these maps. The author notes the following limitations:\n",
    "\n",
    "* It is noted that several police reports are filed at police stations. This may over emphasize the heat entensity in the middle of the map at certain zoom levels, you can see that zooming in changes the intensity of the heat.\n",
    "![zoomed-in](../img/heat-maps/sixteen-zoom.png)\n",
    "\n",
    "* the 4 hotspots seen in the corners are shopping centers which file several shop lifting and are not necessarily indicators of high crime in the surrounding area. Point Radius and Heat intinsity could be tweaked to improve this. as a caveat, they could also be tweaked to appear much worse as well. \n",
    "\n"
   ]
  },
  {
   "cell_type": "markdown",
   "metadata": {},
   "source": [
    "animation of maps ranging from 2004-2016\n",
    "\n",
    "![police-report-animation](../img/heat-map-animation.gif)"
   ]
  },
  {
   "cell_type": "code",
   "execution_count": null,
   "metadata": {},
   "outputs": [],
   "source": []
  }
 ],
 "metadata": {
  "kernelspec": {
   "display_name": "Python 3",
   "language": "python",
   "name": "python3"
  },
  "language_info": {
   "codemirror_mode": {
    "name": "ipython",
    "version": 3
   },
   "file_extension": ".py",
   "mimetype": "text/x-python",
   "name": "python",
   "nbconvert_exporter": "python",
   "pygments_lexer": "ipython3",
   "version": "3.6.2"
  }
 },
 "nbformat": 4,
 "nbformat_minor": 2
}
